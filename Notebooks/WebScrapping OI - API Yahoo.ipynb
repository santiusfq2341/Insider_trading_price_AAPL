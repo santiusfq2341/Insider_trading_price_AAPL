{
 "cells": [
  {
   "cell_type": "code",
   "execution_count": 22,
   "metadata": {},
   "outputs": [
    {
     "name": "stdout",
     "output_type": "stream",
     "text": [
      "Transacciones guardadas en META_transaccionesOPENINSIDER.csv\n"
     ]
    }
   ],
   "source": [
    "import requests\n",
    "from bs4 import BeautifulSoup\n",
    "import csv\n",
    "\n",
    "def extraer_transacciones_openinsider(simbolo_ticker):\n",
    "    \"\"\"\n",
    "    Extrae transacciones de acciones de OpenInsider y las guarda en un archivo CSV.\n",
    "\n",
    "    Args:\n",
    "        simbolo_ticker (str): El símbolo ticker de la acción (por ejemplo, 'META').\n",
    "    \"\"\"\n",
    "\n",
    "    url = f\"http://openinsider.com/screener?s={simbolo_ticker}&o=&pl=&ph=&ll=&lh=&fd=0&fdr=&td=0&tdr=&fdlyl=&fdlyh=&daysago=&xp=1&xs=1&vl=&vh=&ocl=&och=&sic1=-1&sicl=100&sich=9999&grp=0&nfl=&nfh=&nil=&nih=&nol=&noh=&v2l=&v2h=&oc2l=&oc2h=&sortcol=2&cnt=1000&page=1\"\n",
    "    \n",
    "    transacciones = []\n",
    "    try:\n",
    "        response = requests.get(url)\n",
    "        response.raise_for_status()  # Lanza una excepción para códigos de error HTTP (4xx o 5xx)\n",
    "\n",
    "        soup = BeautifulSoup(response.content, 'html.parser')\n",
    "        tabla = soup.find('table', {'class': 'tinytable'})\n",
    "\n",
    "        if tabla:\n",
    "            encabezados = [th.text.strip() for th in tabla.find_all('th')]\n",
    "            filas = tabla.find_all('tr')[1:]  # Ignora la fila de encabezado\n",
    "            for fila in filas:\n",
    "                celdas = fila.find_all('td')\n",
    "                if len(celdas) >= len(encabezados):  # Asegura que haya suficientes celdas\n",
    "                    transaccion = {encabezados[i]: celdas[i].text.strip() for i in range(len(encabezados))}\n",
    "                    transacciones.append(transaccion)\n",
    "        else:\n",
    "            print(\"No se encontró la tabla de transacciones.\")\n",
    "\n",
    "    except requests.exceptions.RequestException as e:\n",
    "        print(f\"Error al obtener la página: {e}\")\n",
    "\n",
    "    if transacciones:\n",
    "        guardar_transacciones_csv(transacciones, f\"{simbolo_ticker}_transaccionesOPENINSIDER.csv\")\n",
    "    else:\n",
    "        print(\"No se encontraron transacciones.\")\n",
    "\n",
    "def guardar_transacciones_csv(transacciones, nombre_archivo):\n",
    "    \"\"\"\n",
    "    Guarda una lista de diccionarios de transacciones en un archivo CSV.\n",
    "\n",
    "    Args:\n",
    "        transacciones (list): Lista de diccionarios de transacciones.\n",
    "        nombre_archivo (str): El nombre del archivo CSV.\n",
    "    \"\"\"\n",
    "\n",
    "    with open(nombre_archivo, 'w', newline='', encoding='utf-8') as archivo_csv:\n",
    "        nombres_campos = transacciones[0].keys()\n",
    "        escritor_csv = csv.DictWriter(archivo_csv, fieldnames=nombres_campos)\n",
    "\n",
    "        escritor_csv.writeheader()\n",
    "        for transaccion in transacciones:\n",
    "            escritor_csv.writerow(transaccion)\n",
    "\n",
    "    print(f\"Transacciones guardadas en {nombre_archivo}\")\n",
    "\n",
    "if __name__ == \"__main__\":\n",
    "    simbolo_ticker = \"META\"  # actualiza el ticker de la acción, pilas con las mayúsculas\n",
    "    extraer_transacciones_openinsider(simbolo_ticker)\n"
   ]
  },
  {
   "cell_type": "code",
   "execution_count": null,
   "metadata": {},
   "outputs": [
    {
     "name": "stdout",
     "output_type": "stream",
     "text": [
      "Collecting yfinanceNote: you may need to restart the kernel to use updated packages.\n",
      "\n",
      "  Downloading yfinance-0.2.55-py2.py3-none-any.whl.metadata (5.8 kB)\n",
      "Requirement already satisfied: pandas>=1.3.0 in c:\\users\\santi\\appdata\\local\\programs\\python\\python312\\lib\\site-packages (from yfinance) (2.2.3)\n",
      "Requirement already satisfied: numpy>=1.16.5 in c:\\users\\santi\\appdata\\local\\programs\\python\\python312\\lib\\site-packages (from yfinance) (2.2.3)\n",
      "Requirement already satisfied: requests>=2.31 in c:\\users\\santi\\appdata\\local\\programs\\python\\python312\\lib\\site-packages (from yfinance) (2.32.3)\n",
      "Collecting multitasking>=0.0.7 (from yfinance)\n",
      "  Downloading multitasking-0.0.11-py3-none-any.whl.metadata (5.5 kB)\n",
      "Requirement already satisfied: platformdirs>=2.0.0 in c:\\users\\santi\\appdata\\roaming\\python\\python312\\site-packages (from yfinance) (4.3.6)\n",
      "Requirement already satisfied: pytz>=2022.5 in c:\\users\\santi\\appdata\\local\\programs\\python\\python312\\lib\\site-packages (from yfinance) (2025.1)\n",
      "Collecting frozendict>=2.3.4 (from yfinance)\n",
      "  Downloading frozendict-2.4.6-py312-none-any.whl.metadata (23 kB)\n",
      "Collecting peewee>=3.16.2 (from yfinance)\n",
      "  Downloading peewee-3.17.9.tar.gz (3.0 MB)\n",
      "     ---------------------------------------- 0.0/3.0 MB ? eta -:--:--\n",
      "     ---------------------------------------- 3.0/3.0 MB 43.9 MB/s eta 0:00:00\n",
      "  Installing build dependencies: started\n",
      "  Installing build dependencies: finished with status 'done'\n",
      "  Getting requirements to build wheel: started\n",
      "  Getting requirements to build wheel: finished with status 'done'\n",
      "  Preparing metadata (pyproject.toml): started\n",
      "  Preparing metadata (pyproject.toml): finished with status 'done'\n",
      "Requirement already satisfied: beautifulsoup4>=4.11.1 in c:\\users\\santi\\appdata\\local\\programs\\python\\python312\\lib\\site-packages (from yfinance) (4.13.3)\n",
      "Requirement already satisfied: soupsieve>1.2 in c:\\users\\santi\\appdata\\local\\programs\\python\\python312\\lib\\site-packages (from beautifulsoup4>=4.11.1->yfinance) (2.6)\n",
      "Requirement already satisfied: typing-extensions>=4.0.0 in c:\\users\\santi\\appdata\\local\\programs\\python\\python312\\lib\\site-packages (from beautifulsoup4>=4.11.1->yfinance) (4.12.2)\n",
      "Requirement already satisfied: python-dateutil>=2.8.2 in c:\\users\\santi\\appdata\\roaming\\python\\python312\\site-packages (from pandas>=1.3.0->yfinance) (2.9.0.post0)\n",
      "Requirement already satisfied: tzdata>=2022.7 in c:\\users\\santi\\appdata\\local\\programs\\python\\python312\\lib\\site-packages (from pandas>=1.3.0->yfinance) (2025.1)\n",
      "Requirement already satisfied: charset-normalizer<4,>=2 in c:\\users\\santi\\appdata\\local\\programs\\python\\python312\\lib\\site-packages (from requests>=2.31->yfinance) (3.4.1)\n",
      "Requirement already satisfied: idna<4,>=2.5 in c:\\users\\santi\\appdata\\local\\programs\\python\\python312\\lib\\site-packages (from requests>=2.31->yfinance) (3.10)\n",
      "Requirement already satisfied: urllib3<3,>=1.21.1 in c:\\users\\santi\\appdata\\local\\programs\\python\\python312\\lib\\site-packages (from requests>=2.31->yfinance) (2.3.0)\n",
      "Requirement already satisfied: certifi>=2017.4.17 in c:\\users\\santi\\appdata\\local\\programs\\python\\python312\\lib\\site-packages (from requests>=2.31->yfinance) (2025.1.31)\n",
      "Requirement already satisfied: six>=1.5 in c:\\users\\santi\\appdata\\roaming\\python\\python312\\site-packages (from python-dateutil>=2.8.2->pandas>=1.3.0->yfinance) (1.17.0)\n",
      "Downloading yfinance-0.2.55-py2.py3-none-any.whl (109 kB)\n",
      "Downloading frozendict-2.4.6-py312-none-any.whl (16 kB)\n",
      "Downloading multitasking-0.0.11-py3-none-any.whl (8.5 kB)\n",
      "Building wheels for collected packages: peewee\n",
      "  Building wheel for peewee (pyproject.toml): started\n",
      "  Building wheel for peewee (pyproject.toml): finished with status 'done'\n",
      "  Created wheel for peewee: filename=peewee-3.17.9-py3-none-any.whl size=139127 sha256=045ad303e55fef3c79b0e083e9cbc7f51bb25272d9a8e650805bbe1818870ab4\n",
      "  Stored in directory: c:\\users\\santi\\appdata\\local\\pip\\cache\\wheels\\43\\ef\\2d\\2c51d496bf084945ffdf838b4cc8767b8ba1cc20eb41588831\n",
      "Successfully built peewee\n",
      "Installing collected packages: peewee, multitasking, frozendict, yfinance\n",
      "Successfully installed frozendict-2.4.6 multitasking-0.0.11 peewee-3.17.9 yfinance-0.2.55\n"
     ]
    }
   ],
   "source": [
    "%pip install yfinance # NO ES API OFICIAL DE YAHOO FINANCE, SE OBTUVO DE GITHUB"
   ]
  },
  {
   "cell_type": "code",
   "execution_count": 28,
   "metadata": {},
   "outputs": [
    {
     "name": "stderr",
     "output_type": "stream",
     "text": [
      "[*********************100%***********************]  1 of 1 completed"
     ]
    },
    {
     "name": "stdout",
     "output_type": "stream",
     "text": [
      "Price            Close        High         Low        Open     Volume\n",
      "Ticker            AAPL        AAPL        AAPL        AAPL       AAPL\n",
      "Date                                                                 \n",
      "2015-01-02   24.320431   24.789800   23.879980   24.778677  212818400\n",
      "2015-01-05   23.635284   24.169164   23.448427   24.089082  257142000\n",
      "2015-01-06   23.637516   23.897782   23.274922   23.699802  263188400\n",
      "2015-01-07   23.968958   24.069060   23.735385   23.846610  160423600\n",
      "2015-01-08   24.889898   24.947736   24.180283   24.298183  237458000\n",
      "...                ...         ...         ...         ...        ...\n",
      "2025-03-21  218.270004  218.839996  211.279999  211.559998   94127800\n",
      "2025-03-24  220.729996  221.479996  218.580002  221.000000   44299500\n",
      "2025-03-25  223.750000  224.100006  220.080002  220.770004   34493600\n",
      "2025-03-26  221.529999  225.020004  220.470001  223.509995   34532700\n",
      "2025-03-27  223.850006  224.990005  220.559998  221.389999   37049500\n",
      "\n",
      "[2574 rows x 5 columns]\n",
      "Datos guardados en precios_acciones.csv\n"
     ]
    },
    {
     "name": "stderr",
     "output_type": "stream",
     "text": [
      "\n"
     ]
    }
   ],
   "source": [
    "import yfinance as yf\n",
    "import pandas as pd\n",
    "\n",
    "def obtener_precios_acciones(tickers, fecha_inicio=\"2015-01-01\"):\n",
    "    \"\"\"\n",
    "    Obtiene los precios de las acciones de una lista de símbolos ticker y los guarda en un archivo CSV.\n",
    "\n",
    "    Args:\n",
    "        tickers (list): Lista de símbolos ticker de las acciones (por ejemplo, [\"AAPL\", \"AMZN\", \"MSFT\", \"META\", \"GOOG\"]).\n",
    "        fecha_inicio (str): La fecha de inicio para los datos (en formato YYYY-MM-DD).\n",
    "\n",
    "    Returns:\n",
    "        pandas.DataFrame: Un DataFrame con los precios de las acciones, o None si hay un error.\n",
    "    \"\"\"\n",
    "\n",
    "    try:\n",
    "        data = yf.download(tickers, start=fecha_inicio)\n",
    "        return data\n",
    "    except Exception as e:\n",
    "        print(f\"Error al obtener los datos: {e}\")\n",
    "        return None\n",
    "\n",
    "if __name__ == \"__main__\":\n",
    "    simbolos_ticker = [\"AAPL\"]\n",
    "    datos_acciones = obtener_precios_acciones(simbolos_ticker)\n",
    "\n",
    "    if datos_acciones is not None:\n",
    "        print(datos_acciones)\n",
    "\n",
    "        # Guardar los datos en un archivo CSV\n",
    "        datos_acciones.to_csv(f\"{simbolos_ticker[0]}_precios_acciones.csv\")\n",
    "        print(\"Datos guardados en precios_acciones.csv\")\n",
    "        \n"
   ]
  }
 ],
 "metadata": {
  "kernelspec": {
   "display_name": "Python 3",
   "language": "python",
   "name": "python3"
  },
  "language_info": {
   "codemirror_mode": {
    "name": "ipython",
    "version": 3
   },
   "file_extension": ".py",
   "mimetype": "text/x-python",
   "name": "python",
   "nbconvert_exporter": "python",
   "pygments_lexer": "ipython3",
   "version": "3.12.6"
  }
 },
 "nbformat": 4,
 "nbformat_minor": 2
}
