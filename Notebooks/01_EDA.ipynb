{
 "cells": [
  {
   "cell_type": "code",
   "execution_count": 1,
   "metadata": {},
   "outputs": [],
   "source": [
    "import pandas as pd\n",
    "import numpy as np\n",
    "import matplotlib.pyplot as plt\n",
    "import seaborn as sns"
   ]
  },
  {
   "cell_type": "markdown",
   "metadata": {},
   "source": [
    "# EMPEZAMOS CON EDA DE LAS ACCIONES DE APPLE"
   ]
  },
  {
   "cell_type": "code",
   "execution_count": 2,
   "metadata": {},
   "outputs": [
    {
     "data": {
      "text/html": [
       "<div>\n",
       "<style scoped>\n",
       "    .dataframe tbody tr th:only-of-type {\n",
       "        vertical-align: middle;\n",
       "    }\n",
       "\n",
       "    .dataframe tbody tr th {\n",
       "        vertical-align: top;\n",
       "    }\n",
       "\n",
       "    .dataframe thead th {\n",
       "        text-align: right;\n",
       "    }\n",
       "</style>\n",
       "<table border=\"1\" class=\"dataframe\">\n",
       "  <thead>\n",
       "    <tr style=\"text-align: right;\">\n",
       "      <th></th>\n",
       "      <th>Price</th>\n",
       "      <th>Close</th>\n",
       "      <th>High</th>\n",
       "      <th>Low</th>\n",
       "      <th>Open</th>\n",
       "      <th>Volume</th>\n",
       "    </tr>\n",
       "  </thead>\n",
       "  <tbody>\n",
       "    <tr>\n",
       "      <th>0</th>\n",
       "      <td>Ticker</td>\n",
       "      <td>AAPL</td>\n",
       "      <td>AAPL</td>\n",
       "      <td>AAPL</td>\n",
       "      <td>AAPL</td>\n",
       "      <td>AAPL</td>\n",
       "    </tr>\n",
       "    <tr>\n",
       "      <th>1</th>\n",
       "      <td>Date</td>\n",
       "      <td>NaN</td>\n",
       "      <td>NaN</td>\n",
       "      <td>NaN</td>\n",
       "      <td>NaN</td>\n",
       "      <td>NaN</td>\n",
       "    </tr>\n",
       "    <tr>\n",
       "      <th>2</th>\n",
       "      <td>2015-01-02</td>\n",
       "      <td>24.320430755615234</td>\n",
       "      <td>24.789799848077692</td>\n",
       "      <td>23.87997951870223</td>\n",
       "      <td>24.7786766820896</td>\n",
       "      <td>212818400</td>\n",
       "    </tr>\n",
       "    <tr>\n",
       "      <th>3</th>\n",
       "      <td>2015-01-05</td>\n",
       "      <td>23.635284423828125</td>\n",
       "      <td>24.169164129068307</td>\n",
       "      <td>23.4484274604303</td>\n",
       "      <td>24.08908208842444</td>\n",
       "      <td>257142000</td>\n",
       "    </tr>\n",
       "    <tr>\n",
       "      <th>4</th>\n",
       "      <td>2015-01-06</td>\n",
       "      <td>23.637516021728516</td>\n",
       "      <td>23.897781878192376</td>\n",
       "      <td>23.274921764638442</td>\n",
       "      <td>23.699801693652454</td>\n",
       "      <td>263188400</td>\n",
       "    </tr>\n",
       "  </tbody>\n",
       "</table>\n",
       "</div>"
      ],
      "text/plain": [
       "        Price               Close                High                 Low  \\\n",
       "0      Ticker                AAPL                AAPL                AAPL   \n",
       "1        Date                 NaN                 NaN                 NaN   \n",
       "2  2015-01-02  24.320430755615234  24.789799848077692   23.87997951870223   \n",
       "3  2015-01-05  23.635284423828125  24.169164129068307    23.4484274604303   \n",
       "4  2015-01-06  23.637516021728516  23.897781878192376  23.274921764638442   \n",
       "\n",
       "                 Open     Volume  \n",
       "0                AAPL       AAPL  \n",
       "1                 NaN        NaN  \n",
       "2    24.7786766820896  212818400  \n",
       "3   24.08908208842444  257142000  \n",
       "4  23.699801693652454  263188400  "
      ]
     },
     "execution_count": 2,
     "metadata": {},
     "output_type": "execute_result"
    }
   ],
   "source": [
    "raw_precios_AAPL = pd.read_csv(('../Dataset/raw/AAPL_precios_acciones.csv'), sep = ',')\n",
    "raw_precios_AAPL.head()\n",
    "                      "
   ]
  },
  {
   "cell_type": "code",
   "execution_count": 3,
   "metadata": {},
   "outputs": [],
   "source": [
    "# eliminar la primera fila\n",
    "raw_precios_AAPL.drop(index=0, inplace=True)"
   ]
  },
  {
   "cell_type": "code",
   "execution_count": 4,
   "metadata": {},
   "outputs": [],
   "source": [
    "# eliminar nan\n",
    "raw_precios_AAPL.dropna(inplace=True)"
   ]
  },
  {
   "cell_type": "code",
   "execution_count": 5,
   "metadata": {},
   "outputs": [],
   "source": [
    "# cambiar nombre de columnas, price por date\n",
    "raw_precios_AAPL.columns = ['Date', 'Close', 'High', 'Low', 'Open', 'Volume']"
   ]
  },
  {
   "cell_type": "code",
   "execution_count": 6,
   "metadata": {},
   "outputs": [
    {
     "name": "stdout",
     "output_type": "stream",
     "text": [
      "<class 'pandas.core.frame.DataFrame'>\n",
      "Index: 2574 entries, 2 to 2575\n",
      "Data columns (total 6 columns):\n",
      " #   Column  Non-Null Count  Dtype \n",
      "---  ------  --------------  ----- \n",
      " 0   Date    2574 non-null   object\n",
      " 1   Close   2574 non-null   object\n",
      " 2   High    2574 non-null   object\n",
      " 3   Low     2574 non-null   object\n",
      " 4   Open    2574 non-null   object\n",
      " 5   Volume  2574 non-null   object\n",
      "dtypes: object(6)\n",
      "memory usage: 140.8+ KB\n"
     ]
    }
   ],
   "source": [
    "# obtener info de los datos\n",
    "raw_precios_AAPL.info()"
   ]
  },
  {
   "cell_type": "code",
   "execution_count": 7,
   "metadata": {},
   "outputs": [],
   "source": [
    "# cambiar tipo de datos y redondear a 2 decimales en las columnas que aplique\n",
    "\n",
    "raw_precios_AAPL['Date'] = pd.to_datetime(raw_precios_AAPL['Date'])\n",
    "raw_precios_AAPL['Close'] = pd.to_numeric(raw_precios_AAPL['Close'].round(2))\n",
    "raw_precios_AAPL['High'] = pd.to_numeric(raw_precios_AAPL['High'].round(2))\n",
    "raw_precios_AAPL['Low'] = pd.to_numeric(raw_precios_AAPL['Low'].round(2))\n",
    "raw_precios_AAPL['Open'] = pd.to_numeric(raw_precios_AAPL['Open'].round(2))\n",
    "raw_precios_AAPL['Volume'] = pd.to_numeric(raw_precios_AAPL['Volume'].round(2))"
   ]
  },
  {
   "cell_type": "code",
   "execution_count": 8,
   "metadata": {},
   "outputs": [
    {
     "name": "stdout",
     "output_type": "stream",
     "text": [
      "<class 'pandas.core.frame.DataFrame'>\n",
      "Index: 2574 entries, 2 to 2575\n",
      "Data columns (total 6 columns):\n",
      " #   Column  Non-Null Count  Dtype         \n",
      "---  ------  --------------  -----         \n",
      " 0   Date    2574 non-null   datetime64[ns]\n",
      " 1   Close   2574 non-null   float64       \n",
      " 2   High    2574 non-null   float64       \n",
      " 3   Low     2574 non-null   float64       \n",
      " 4   Open    2574 non-null   float64       \n",
      " 5   Volume  2574 non-null   int64         \n",
      "dtypes: datetime64[ns](1), float64(4), int64(1)\n",
      "memory usage: 140.8 KB\n"
     ]
    }
   ],
   "source": [
    "# verificar info de los datos para ver si hicieron efecto los cambios\n",
    "raw_precios_AAPL.info()\n",
    "raw_precios_AAPL.reset_index(drop=True, inplace=True)\n"
   ]
  },
  {
   "cell_type": "code",
   "execution_count": 9,
   "metadata": {},
   "outputs": [],
   "source": [
    "# cambiar de orden las columnas para que dar un formato más limpio y ordenado\n",
    "raw_precios_AAPL = raw_precios_AAPL[['Date', 'Open', 'High', 'Low', 'Close', 'Volume']]"
   ]
  },
  {
   "cell_type": "code",
   "execution_count": 10,
   "metadata": {},
   "outputs": [
    {
     "data": {
      "text/plain": [
       "Date      0\n",
       "Open      0\n",
       "High      0\n",
       "Low       0\n",
       "Close     0\n",
       "Volume    0\n",
       "dtype: int64"
      ]
     },
     "execution_count": 10,
     "metadata": {},
     "output_type": "execute_result"
    }
   ],
   "source": [
    "# verificar si hay valores nulos\n",
    "raw_precios_AAPL.isna().sum()"
   ]
  },
  {
   "cell_type": "code",
   "execution_count": 11,
   "metadata": {},
   "outputs": [
    {
     "data": {
      "text/plain": [
       "np.int64(0)"
      ]
     },
     "execution_count": 11,
     "metadata": {},
     "output_type": "execute_result"
    }
   ],
   "source": [
    "raw_precios_AAPL.duplicated(['Date']).sum()"
   ]
  },
  {
   "cell_type": "code",
   "execution_count": 12,
   "metadata": {},
   "outputs": [
    {
     "data": {
      "text/html": [
       "<div>\n",
       "<style scoped>\n",
       "    .dataframe tbody tr th:only-of-type {\n",
       "        vertical-align: middle;\n",
       "    }\n",
       "\n",
       "    .dataframe tbody tr th {\n",
       "        vertical-align: top;\n",
       "    }\n",
       "\n",
       "    .dataframe thead th {\n",
       "        text-align: right;\n",
       "    }\n",
       "</style>\n",
       "<table border=\"1\" class=\"dataframe\">\n",
       "  <thead>\n",
       "    <tr style=\"text-align: right;\">\n",
       "      <th></th>\n",
       "      <th>Date</th>\n",
       "      <th>Open</th>\n",
       "      <th>High</th>\n",
       "      <th>Low</th>\n",
       "      <th>Close</th>\n",
       "      <th>Volume</th>\n",
       "    </tr>\n",
       "  </thead>\n",
       "  <tbody>\n",
       "    <tr>\n",
       "      <th>0</th>\n",
       "      <td>2015-01-02</td>\n",
       "      <td>24.778677</td>\n",
       "      <td>24.789800</td>\n",
       "      <td>23.879980</td>\n",
       "      <td>24.320431</td>\n",
       "      <td>212818400</td>\n",
       "    </tr>\n",
       "    <tr>\n",
       "      <th>1</th>\n",
       "      <td>2015-01-05</td>\n",
       "      <td>24.089082</td>\n",
       "      <td>24.169164</td>\n",
       "      <td>23.448427</td>\n",
       "      <td>23.635284</td>\n",
       "      <td>257142000</td>\n",
       "    </tr>\n",
       "    <tr>\n",
       "      <th>2</th>\n",
       "      <td>2015-01-06</td>\n",
       "      <td>23.699802</td>\n",
       "      <td>23.897782</td>\n",
       "      <td>23.274922</td>\n",
       "      <td>23.637516</td>\n",
       "      <td>263188400</td>\n",
       "    </tr>\n",
       "    <tr>\n",
       "      <th>3</th>\n",
       "      <td>2015-01-07</td>\n",
       "      <td>23.846610</td>\n",
       "      <td>24.069060</td>\n",
       "      <td>23.735385</td>\n",
       "      <td>23.968958</td>\n",
       "      <td>160423600</td>\n",
       "    </tr>\n",
       "    <tr>\n",
       "      <th>4</th>\n",
       "      <td>2015-01-08</td>\n",
       "      <td>24.298183</td>\n",
       "      <td>24.947736</td>\n",
       "      <td>24.180283</td>\n",
       "      <td>24.889898</td>\n",
       "      <td>237458000</td>\n",
       "    </tr>\n",
       "    <tr>\n",
       "      <th>...</th>\n",
       "      <td>...</td>\n",
       "      <td>...</td>\n",
       "      <td>...</td>\n",
       "      <td>...</td>\n",
       "      <td>...</td>\n",
       "      <td>...</td>\n",
       "    </tr>\n",
       "    <tr>\n",
       "      <th>2569</th>\n",
       "      <td>2025-03-21</td>\n",
       "      <td>211.559998</td>\n",
       "      <td>218.839996</td>\n",
       "      <td>211.279999</td>\n",
       "      <td>218.270004</td>\n",
       "      <td>94127800</td>\n",
       "    </tr>\n",
       "    <tr>\n",
       "      <th>2570</th>\n",
       "      <td>2025-03-24</td>\n",
       "      <td>221.000000</td>\n",
       "      <td>221.479996</td>\n",
       "      <td>218.580002</td>\n",
       "      <td>220.729996</td>\n",
       "      <td>44299500</td>\n",
       "    </tr>\n",
       "    <tr>\n",
       "      <th>2571</th>\n",
       "      <td>2025-03-25</td>\n",
       "      <td>220.770004</td>\n",
       "      <td>224.100006</td>\n",
       "      <td>220.080002</td>\n",
       "      <td>223.750000</td>\n",
       "      <td>34493600</td>\n",
       "    </tr>\n",
       "    <tr>\n",
       "      <th>2572</th>\n",
       "      <td>2025-03-26</td>\n",
       "      <td>223.509995</td>\n",
       "      <td>225.020004</td>\n",
       "      <td>220.470001</td>\n",
       "      <td>221.529999</td>\n",
       "      <td>34532700</td>\n",
       "    </tr>\n",
       "    <tr>\n",
       "      <th>2573</th>\n",
       "      <td>2025-03-27</td>\n",
       "      <td>221.389999</td>\n",
       "      <td>224.990005</td>\n",
       "      <td>220.559998</td>\n",
       "      <td>223.850006</td>\n",
       "      <td>37049500</td>\n",
       "    </tr>\n",
       "  </tbody>\n",
       "</table>\n",
       "<p>2574 rows × 6 columns</p>\n",
       "</div>"
      ],
      "text/plain": [
       "           Date        Open        High         Low       Close     Volume\n",
       "0    2015-01-02   24.778677   24.789800   23.879980   24.320431  212818400\n",
       "1    2015-01-05   24.089082   24.169164   23.448427   23.635284  257142000\n",
       "2    2015-01-06   23.699802   23.897782   23.274922   23.637516  263188400\n",
       "3    2015-01-07   23.846610   24.069060   23.735385   23.968958  160423600\n",
       "4    2015-01-08   24.298183   24.947736   24.180283   24.889898  237458000\n",
       "...         ...         ...         ...         ...         ...        ...\n",
       "2569 2025-03-21  211.559998  218.839996  211.279999  218.270004   94127800\n",
       "2570 2025-03-24  221.000000  221.479996  218.580002  220.729996   44299500\n",
       "2571 2025-03-25  220.770004  224.100006  220.080002  223.750000   34493600\n",
       "2572 2025-03-26  223.509995  225.020004  220.470001  221.529999   34532700\n",
       "2573 2025-03-27  221.389999  224.990005  220.559998  223.850006   37049500\n",
       "\n",
       "[2574 rows x 6 columns]"
      ]
     },
     "execution_count": 12,
     "metadata": {},
     "output_type": "execute_result"
    }
   ],
   "source": [
    "raw_precios_AAPL"
   ]
  },
  {
   "cell_type": "code",
   "execution_count": 13,
   "metadata": {},
   "outputs": [
    {
     "data": {
      "text/html": [
       "<div>\n",
       "<style scoped>\n",
       "    .dataframe tbody tr th:only-of-type {\n",
       "        vertical-align: middle;\n",
       "    }\n",
       "\n",
       "    .dataframe tbody tr th {\n",
       "        vertical-align: top;\n",
       "    }\n",
       "\n",
       "    .dataframe thead th {\n",
       "        text-align: right;\n",
       "    }\n",
       "</style>\n",
       "<table border=\"1\" class=\"dataframe\">\n",
       "  <thead>\n",
       "    <tr style=\"text-align: right;\">\n",
       "      <th></th>\n",
       "      <th>Date</th>\n",
       "      <th>Open</th>\n",
       "      <th>High</th>\n",
       "      <th>Low</th>\n",
       "      <th>Close</th>\n",
       "      <th>Volume</th>\n",
       "    </tr>\n",
       "  </thead>\n",
       "  <tbody>\n",
       "    <tr>\n",
       "      <th>count</th>\n",
       "      <td>2574</td>\n",
       "      <td>2574.000000</td>\n",
       "      <td>2574.000000</td>\n",
       "      <td>2574.000000</td>\n",
       "      <td>2574.000000</td>\n",
       "      <td>2.574000e+03</td>\n",
       "    </tr>\n",
       "    <tr>\n",
       "      <th>mean</th>\n",
       "      <td>2020-02-11 23:11:19.720279808</td>\n",
       "      <td>97.198216</td>\n",
       "      <td>98.239848</td>\n",
       "      <td>96.223754</td>\n",
       "      <td>97.284540</td>\n",
       "      <td>1.156422e+08</td>\n",
       "    </tr>\n",
       "    <tr>\n",
       "      <th>min</th>\n",
       "      <td>2015-01-02 00:00:00</td>\n",
       "      <td>20.596722</td>\n",
       "      <td>20.978906</td>\n",
       "      <td>20.475435</td>\n",
       "      <td>20.674536</td>\n",
       "      <td>2.323470e+07</td>\n",
       "    </tr>\n",
       "    <tr>\n",
       "      <th>25%</th>\n",
       "      <td>2017-07-24 06:00:00</td>\n",
       "      <td>35.829304</td>\n",
       "      <td>36.023978</td>\n",
       "      <td>35.591215</td>\n",
       "      <td>35.830737</td>\n",
       "      <td>6.963792e+07</td>\n",
       "    </tr>\n",
       "    <tr>\n",
       "      <th>50%</th>\n",
       "      <td>2020-02-12 12:00:00</td>\n",
       "      <td>68.411218</td>\n",
       "      <td>69.446233</td>\n",
       "      <td>67.555614</td>\n",
       "      <td>68.790337</td>\n",
       "      <td>9.841010e+07</td>\n",
       "    </tr>\n",
       "    <tr>\n",
       "      <th>75%</th>\n",
       "      <td>2022-08-31 18:00:00</td>\n",
       "      <td>154.880092</td>\n",
       "      <td>157.213646</td>\n",
       "      <td>152.578035</td>\n",
       "      <td>155.051308</td>\n",
       "      <td>1.411344e+08</td>\n",
       "    </tr>\n",
       "    <tr>\n",
       "      <th>max</th>\n",
       "      <td>2025-03-27 00:00:00</td>\n",
       "      <td>257.906429</td>\n",
       "      <td>259.814335</td>\n",
       "      <td>257.347047</td>\n",
       "      <td>258.735504</td>\n",
       "      <td>6.488252e+08</td>\n",
       "    </tr>\n",
       "    <tr>\n",
       "      <th>std</th>\n",
       "      <td>NaN</td>\n",
       "      <td>68.009634</td>\n",
       "      <td>68.725053</td>\n",
       "      <td>67.347645</td>\n",
       "      <td>68.083339</td>\n",
       "      <td>6.833532e+07</td>\n",
       "    </tr>\n",
       "  </tbody>\n",
       "</table>\n",
       "</div>"
      ],
      "text/plain": [
       "                                Date         Open         High          Low  \\\n",
       "count                           2574  2574.000000  2574.000000  2574.000000   \n",
       "mean   2020-02-11 23:11:19.720279808    97.198216    98.239848    96.223754   \n",
       "min              2015-01-02 00:00:00    20.596722    20.978906    20.475435   \n",
       "25%              2017-07-24 06:00:00    35.829304    36.023978    35.591215   \n",
       "50%              2020-02-12 12:00:00    68.411218    69.446233    67.555614   \n",
       "75%              2022-08-31 18:00:00   154.880092   157.213646   152.578035   \n",
       "max              2025-03-27 00:00:00   257.906429   259.814335   257.347047   \n",
       "std                              NaN    68.009634    68.725053    67.347645   \n",
       "\n",
       "             Close        Volume  \n",
       "count  2574.000000  2.574000e+03  \n",
       "mean     97.284540  1.156422e+08  \n",
       "min      20.674536  2.323470e+07  \n",
       "25%      35.830737  6.963792e+07  \n",
       "50%      68.790337  9.841010e+07  \n",
       "75%     155.051308  1.411344e+08  \n",
       "max     258.735504  6.488252e+08  \n",
       "std      68.083339  6.833532e+07  "
      ]
     },
     "execution_count": 13,
     "metadata": {},
     "output_type": "execute_result"
    }
   ],
   "source": [
    "raw_precios_AAPL.describe()"
   ]
  },
  {
   "cell_type": "markdown",
   "metadata": {},
   "source": [
    "# COMENTARIO:\n",
    "\n",
    "Hasta aquí podemos observar que la tabla mayormente no tiene mucho por limpiar, no posee datos nulos y no tendría sentido aplicar una eliminación de datos duplicados ya que la información se la extrajo por día, sin embargo, se aplicó un .duplicated a 'Date' únicamente para confirmar.\n",
    "\n"
   ]
  },
  {
   "cell_type": "code",
   "execution_count": 14,
   "metadata": {},
   "outputs": [
    {
     "data": {
      "image/png": "[encoded data removed]",
      "text/plain": [
       "<Figure size 640x480 with 1 Axes>"
      ]
     },
     "metadata": {},
     "output_type": "display_data"
    }
   ],
   "source": [
    "raw_precios_AAPL.plot(\n",
    "    x='Date',\n",
    "    y=['Open', 'Close'],\n",
    "    kind='line',\n",
    "    title='Evolucion de Open vs Close de acciones de APPL',\n",
    "    xlabel='Date',\n",
    "    ylabel='Price'\n",
    ")\n",
    "plt.xticks(rotation=45)\n",
    "plt.show()\n"
   ]
  },
  {
   "cell_type": "markdown",
   "metadata": {},
   "source": [
    "# COMENTARIO\n",
    "En el gráfico se observa variaciones mínimas entre el precio open - close y aquí quiero explicar una parte importante.\n",
    "\n",
    "Lo ideal sería que el precio con el cierra el día anterior, abra el siguiente día, sin embargo, esto no ocurre por algo que se llama Horas extendidas (extended hours).\n",
    "Esto significa que al cierre del mercado que es las 16H00 hora EEUU, los inversionistas a través de sus brokers pueden colocar órdenes de compra o venta de acciones luego de esas horas y por efecto de la oferta y demanda, el precio fluctúa. Por este motivo difiere el precio al dia siguiente."
   ]
  },
  {
   "cell_type": "code",
   "execution_count": 15,
   "metadata": {},
   "outputs": [
    {
     "data": {
      "image/png": "[encoded data removed]",
      "text/plain": [
       "<Figure size 640x480 with 1 Axes>"
      ]
     },
     "metadata": {},
     "output_type": "display_data"
    }
   ],
   "source": [
    "raw_precios_AAPL.plot(\n",
    "    x='Date',\n",
    "    y=['High', 'Low'],\n",
    "    kind='line',\n",
    "    title='Evolucion de High vs Low de acciones de APPL',\n",
    "    xlabel='Date',\n",
    "    ylabel='Price'\n",
    ")\n",
    "plt.xticks(rotation=45)\n",
    "plt.show()"
   ]
  },
  {
   "cell_type": "markdown",
   "metadata": {},
   "source": [
    "# COMENTARIO\n",
    "Aquí se diferencia de forma más clara la evolución del precio de la acción, como el nombre de las columnas lo indica, se compara el precio más alto vs el más bajo. "
   ]
  },
  {
   "cell_type": "code",
   "execution_count": 16,
   "metadata": {},
   "outputs": [
    {
     "data": {
      "image/png": "[encoded data removed]",
      "text/plain": [
       "<Figure size 640x480 with 1 Axes>"
      ]
     },
     "metadata": {},
     "output_type": "display_data"
    }
   ],
   "source": [
    "raw_precios_AAPL.plot(\n",
    "    x='Date',\n",
    "    y='Open',\n",
    "    kind='box',\n",
    "    title='Distribución de Open de acciones de APPL',\n",
    "    ylabel='Price'\n",
    ")\n",
    "\n",
    "plt.xticks(rotation=45)\n",
    "plt.show()"
   ]
  },
  {
   "cell_type": "markdown",
   "metadata": {},
   "source": [
    "# COMENTARIO\n",
    "Se observa un comportamiento normal del precio de la acción durante los años que se están considerando para este estudio."
   ]
  },
  {
   "cell_type": "code",
   "execution_count": 17,
   "metadata": {},
   "outputs": [],
   "source": [
    "# tomar el dataframe limpio y guardarlo como un nuevo csv\n",
    "raw_precios_AAPL.to_csv(('../Dataset/curated/AAPL_precios_acciones_limpio.csv'))"
   ]
  },
  {
   "cell_type": "markdown",
   "metadata": {},
   "source": [
    "# SE CARGA LA INFORMACIÓN DE .CSV OPENINSIDERS DE LAS ACCIONES DE AAPL"
   ]
  },
  {
   "cell_type": "code",
   "execution_count": 18,
   "metadata": {},
   "outputs": [
    {
     "data": {
      "text/html": [
       "<div>\n",
       "<style scoped>\n",
       "    .dataframe tbody tr th:only-of-type {\n",
       "        vertical-align: middle;\n",
       "    }\n",
       "\n",
       "    .dataframe tbody tr th {\n",
       "        vertical-align: top;\n",
       "    }\n",
       "\n",
       "    .dataframe thead th {\n",
       "        text-align: right;\n",
       "    }\n",
       "</style>\n",
       "<table border=\"1\" class=\"dataframe\">\n",
       "  <thead>\n",
       "    <tr style=\"text-align: right;\">\n",
       "      <th></th>\n",
       "      <th>X</th>\n",
       "      <th>Filing Date</th>\n",
       "      <th>Trade Date</th>\n",
       "      <th>Ticker</th>\n",
       "      <th>Insider Name</th>\n",
       "      <th>Title</th>\n",
       "      <th>Trade Type</th>\n",
       "      <th>Price</th>\n",
       "      <th>Qty</th>\n",
       "      <th>Owned</th>\n",
       "      <th>ΔOwn</th>\n",
       "      <th>Value</th>\n",
       "      <th>1d</th>\n",
       "      <th>1w</th>\n",
       "      <th>1m</th>\n",
       "      <th>6m</th>\n",
       "    </tr>\n",
       "  </thead>\n",
       "  <tbody>\n",
       "    <tr>\n",
       "      <th>0</th>\n",
       "      <td>D</td>\n",
       "      <td>2004-04-21 19:07:40</td>\n",
       "      <td>2004-04-19</td>\n",
       "      <td>AAPL</td>\n",
       "      <td>Heinen Nancy R</td>\n",
       "      <td>SVP</td>\n",
       "      <td>S - Sale+OE</td>\n",
       "      <td>$28.00</td>\n",
       "      <td>-200,000</td>\n",
       "      <td>1,315</td>\n",
       "      <td>-99%</td>\n",
       "      <td>-$5,600,000</td>\n",
       "      <td>0.0</td>\n",
       "      <td>-3.0</td>\n",
       "      <td>-5.0</td>\n",
       "      <td>71.0</td>\n",
       "    </tr>\n",
       "    <tr>\n",
       "      <th>1</th>\n",
       "      <td>D</td>\n",
       "      <td>2004-04-21 19:08:35</td>\n",
       "      <td>2004-04-19</td>\n",
       "      <td>AAPL</td>\n",
       "      <td>Tamaddon Sina</td>\n",
       "      <td>SVP</td>\n",
       "      <td>S - Sale+OE</td>\n",
       "      <td>$28.08</td>\n",
       "      <td>-678,400</td>\n",
       "      <td>6,452</td>\n",
       "      <td>-99%</td>\n",
       "      <td>-$19,046,284</td>\n",
       "      <td>0.0</td>\n",
       "      <td>-3.0</td>\n",
       "      <td>-5.0</td>\n",
       "      <td>71.0</td>\n",
       "    </tr>\n",
       "    <tr>\n",
       "      <th>2</th>\n",
       "      <td>DM</td>\n",
       "      <td>2004-04-21 19:09:19</td>\n",
       "      <td>2004-04-19</td>\n",
       "      <td>AAPL</td>\n",
       "      <td>Rubinstein Jonathan</td>\n",
       "      <td>SVP</td>\n",
       "      <td>S - Sale+OE</td>\n",
       "      <td>$28.35</td>\n",
       "      <td>-250,000</td>\n",
       "      <td>9,906</td>\n",
       "      <td>-96%</td>\n",
       "      <td>-$7,087,500</td>\n",
       "      <td>0.0</td>\n",
       "      <td>-3.0</td>\n",
       "      <td>-5.0</td>\n",
       "      <td>71.0</td>\n",
       "    </tr>\n",
       "    <tr>\n",
       "      <th>3</th>\n",
       "      <td>D</td>\n",
       "      <td>2004-04-21 19:11:31</td>\n",
       "      <td>2004-04-19</td>\n",
       "      <td>AAPL</td>\n",
       "      <td>Cook Timothy D</td>\n",
       "      <td>EVP</td>\n",
       "      <td>S - Sale+OE</td>\n",
       "      <td>$27.99</td>\n",
       "      <td>-84,000</td>\n",
       "      <td>4,722</td>\n",
       "      <td>-95%</td>\n",
       "      <td>-$2,351,280</td>\n",
       "      <td>0.0</td>\n",
       "      <td>-3.0</td>\n",
       "      <td>-5.0</td>\n",
       "      <td>71.0</td>\n",
       "    </tr>\n",
       "    <tr>\n",
       "      <th>4</th>\n",
       "      <td>D</td>\n",
       "      <td>2004-04-21 19:12:19</td>\n",
       "      <td>2004-04-19</td>\n",
       "      <td>AAPL</td>\n",
       "      <td>Cook Timothy D</td>\n",
       "      <td>EVP</td>\n",
       "      <td>S - Sale+OE</td>\n",
       "      <td>$28.21</td>\n",
       "      <td>-94,000</td>\n",
       "      <td>4,722</td>\n",
       "      <td>-95%</td>\n",
       "      <td>-$2,651,880</td>\n",
       "      <td>0.0</td>\n",
       "      <td>-3.0</td>\n",
       "      <td>-5.0</td>\n",
       "      <td>71.0</td>\n",
       "    </tr>\n",
       "    <tr>\n",
       "      <th>...</th>\n",
       "      <td>...</td>\n",
       "      <td>...</td>\n",
       "      <td>...</td>\n",
       "      <td>...</td>\n",
       "      <td>...</td>\n",
       "      <td>...</td>\n",
       "      <td>...</td>\n",
       "      <td>...</td>\n",
       "      <td>...</td>\n",
       "      <td>...</td>\n",
       "      <td>...</td>\n",
       "      <td>...</td>\n",
       "      <td>...</td>\n",
       "      <td>...</td>\n",
       "      <td>...</td>\n",
       "      <td>...</td>\n",
       "    </tr>\n",
       "    <tr>\n",
       "      <th>599</th>\n",
       "      <td>NaN</td>\n",
       "      <td>2024-10-08 18:30:13</td>\n",
       "      <td>2024-10-04</td>\n",
       "      <td>AAPL</td>\n",
       "      <td>Maestri Luca</td>\n",
       "      <td>SVP, CFO</td>\n",
       "      <td>S - Sale</td>\n",
       "      <td>$226.52</td>\n",
       "      <td>-59,305</td>\n",
       "      <td>107,788</td>\n",
       "      <td>-35%</td>\n",
       "      <td>-$13,433,769</td>\n",
       "      <td>NaN</td>\n",
       "      <td>NaN</td>\n",
       "      <td>NaN</td>\n",
       "      <td>NaN</td>\n",
       "    </tr>\n",
       "    <tr>\n",
       "      <th>600</th>\n",
       "      <td>NaN</td>\n",
       "      <td>2024-11-19 18:30:49</td>\n",
       "      <td>2024-11-18</td>\n",
       "      <td>AAPL</td>\n",
       "      <td>Kondo Chris</td>\n",
       "      <td>Principal Accounting Officer</td>\n",
       "      <td>S - Sale</td>\n",
       "      <td>$228.87</td>\n",
       "      <td>-4,130</td>\n",
       "      <td>15,419</td>\n",
       "      <td>-21%</td>\n",
       "      <td>-$945,233</td>\n",
       "      <td>NaN</td>\n",
       "      <td>NaN</td>\n",
       "      <td>NaN</td>\n",
       "      <td>NaN</td>\n",
       "    </tr>\n",
       "    <tr>\n",
       "      <th>601</th>\n",
       "      <td>M</td>\n",
       "      <td>2024-11-19 18:31:42</td>\n",
       "      <td>2024-11-15</td>\n",
       "      <td>AAPL</td>\n",
       "      <td>Levinson Arthur D</td>\n",
       "      <td>Dir</td>\n",
       "      <td>S - Sale</td>\n",
       "      <td>$227.32</td>\n",
       "      <td>-200,000</td>\n",
       "      <td>4,215,576</td>\n",
       "      <td>-5%</td>\n",
       "      <td>-$45,464,500</td>\n",
       "      <td>NaN</td>\n",
       "      <td>NaN</td>\n",
       "      <td>NaN</td>\n",
       "      <td>NaN</td>\n",
       "    </tr>\n",
       "    <tr>\n",
       "      <th>602</th>\n",
       "      <td>NaN</td>\n",
       "      <td>2024-12-18 18:30:20</td>\n",
       "      <td>2024-12-16</td>\n",
       "      <td>AAPL</td>\n",
       "      <td>Williams Jeffrey E</td>\n",
       "      <td>COO</td>\n",
       "      <td>S - Sale</td>\n",
       "      <td>$249.97</td>\n",
       "      <td>-100,000</td>\n",
       "      <td>389,944</td>\n",
       "      <td>-20%</td>\n",
       "      <td>-$24,997,395</td>\n",
       "      <td>NaN</td>\n",
       "      <td>NaN</td>\n",
       "      <td>NaN</td>\n",
       "      <td>NaN</td>\n",
       "    </tr>\n",
       "    <tr>\n",
       "      <th>603</th>\n",
       "      <td>D</td>\n",
       "      <td>2025-02-04 18:33:25</td>\n",
       "      <td>2025-02-03</td>\n",
       "      <td>AAPL</td>\n",
       "      <td>Levinson Arthur D</td>\n",
       "      <td>Dir</td>\n",
       "      <td>S - Sale+OE</td>\n",
       "      <td>$226.35</td>\n",
       "      <td>-1,516</td>\n",
       "      <td>4,215,576</td>\n",
       "      <td>0%</td>\n",
       "      <td>-$343,147</td>\n",
       "      <td>NaN</td>\n",
       "      <td>NaN</td>\n",
       "      <td>NaN</td>\n",
       "      <td>NaN</td>\n",
       "    </tr>\n",
       "  </tbody>\n",
       "</table>\n",
       "<p>604 rows × 16 columns</p>\n",
       "</div>"
      ],
      "text/plain": [
       "       X          Filing Date  Trade Date Ticker         Insider Name  \\\n",
       "0      D  2004-04-21 19:07:40  2004-04-19   AAPL       Heinen Nancy R   \n",
       "1      D  2004-04-21 19:08:35  2004-04-19   AAPL        Tamaddon Sina   \n",
       "2     DM  2004-04-21 19:09:19  2004-04-19   AAPL  Rubinstein Jonathan   \n",
       "3      D  2004-04-21 19:11:31  2004-04-19   AAPL       Cook Timothy D   \n",
       "4      D  2004-04-21 19:12:19  2004-04-19   AAPL       Cook Timothy D   \n",
       "..   ...                  ...         ...    ...                  ...   \n",
       "599  NaN  2024-10-08 18:30:13  2024-10-04   AAPL         Maestri Luca   \n",
       "600  NaN  2024-11-19 18:30:49  2024-11-18   AAPL          Kondo Chris   \n",
       "601    M  2024-11-19 18:31:42  2024-11-15   AAPL    Levinson Arthur D   \n",
       "602  NaN  2024-12-18 18:30:20  2024-12-16   AAPL   Williams Jeffrey E   \n",
       "603    D  2025-02-04 18:33:25  2025-02-03   AAPL    Levinson Arthur D   \n",
       "\n",
       "                            Title   Trade Type    Price       Qty      Owned  \\\n",
       "0                             SVP  S - Sale+OE   $28.00  -200,000      1,315   \n",
       "1                             SVP  S - Sale+OE   $28.08  -678,400      6,452   \n",
       "2                             SVP  S - Sale+OE   $28.35  -250,000      9,906   \n",
       "3                             EVP  S - Sale+OE   $27.99   -84,000      4,722   \n",
       "4                             EVP  S - Sale+OE   $28.21   -94,000      4,722   \n",
       "..                            ...          ...      ...       ...        ...   \n",
       "599                      SVP, CFO     S - Sale  $226.52   -59,305    107,788   \n",
       "600  Principal Accounting Officer     S - Sale  $228.87    -4,130     15,419   \n",
       "601                           Dir     S - Sale  $227.32  -200,000  4,215,576   \n",
       "602                           COO     S - Sale  $249.97  -100,000    389,944   \n",
       "603                           Dir  S - Sale+OE  $226.35    -1,516  4,215,576   \n",
       "\n",
       "     ΔOwn         Value   1d   1w   1m    6m  \n",
       "0    -99%   -$5,600,000  0.0 -3.0 -5.0  71.0  \n",
       "1    -99%  -$19,046,284  0.0 -3.0 -5.0  71.0  \n",
       "2    -96%   -$7,087,500  0.0 -3.0 -5.0  71.0  \n",
       "3    -95%   -$2,351,280  0.0 -3.0 -5.0  71.0  \n",
       "4    -95%   -$2,651,880  0.0 -3.0 -5.0  71.0  \n",
       "..    ...           ...  ...  ...  ...   ...  \n",
       "599  -35%  -$13,433,769  NaN  NaN  NaN   NaN  \n",
       "600  -21%     -$945,233  NaN  NaN  NaN   NaN  \n",
       "601   -5%  -$45,464,500  NaN  NaN  NaN   NaN  \n",
       "602  -20%  -$24,997,395  NaN  NaN  NaN   NaN  \n",
       "603    0%     -$343,147  NaN  NaN  NaN   NaN  \n",
       "\n",
       "[604 rows x 16 columns]"
      ]
     },
     "execution_count": 18,
     "metadata": {},
     "output_type": "execute_result"
    }
   ],
   "source": [
    "raw_insiders_AAPL = pd.read_csv(('../Dataset/raw/AAPL_transaccionesOPENINSIDER.csv'), sep = ',')\n",
    "raw_insiders_AAPL"
   ]
  },
  {
   "cell_type": "code",
   "execution_count": 19,
   "metadata": {},
   "outputs": [
    {
     "name": "stdout",
     "output_type": "stream",
     "text": [
      "<class 'pandas.core.frame.DataFrame'>\n",
      "RangeIndex: 604 entries, 0 to 603\n",
      "Data columns (total 16 columns):\n",
      " #   Column        Non-Null Count  Dtype  \n",
      "---  ------        --------------  -----  \n",
      " 0   X             409 non-null    object \n",
      " 1   Filing Date   604 non-null    object \n",
      " 2   Trade Date    604 non-null    object \n",
      " 3   Ticker        604 non-null    object \n",
      " 4   Insider Name  604 non-null    object \n",
      " 5   Title         604 non-null    object \n",
      " 6   Trade Type    604 non-null    object \n",
      " 7   Price         604 non-null    object \n",
      " 8   Qty           604 non-null    object \n",
      " 9   Owned         604 non-null    object \n",
      " 10  ΔOwn          604 non-null    object \n",
      " 11  Value         604 non-null    object \n",
      " 12  1d            469 non-null    float64\n",
      " 13  1w            467 non-null    float64\n",
      " 14  1m            464 non-null    float64\n",
      " 15  6m            440 non-null    float64\n",
      "dtypes: float64(4), object(12)\n",
      "memory usage: 75.6+ KB\n"
     ]
    }
   ],
   "source": [
    "raw_insiders_AAPL.info()"
   ]
  },
  {
   "cell_type": "code",
   "execution_count": 20,
   "metadata": {},
   "outputs": [
    {
     "data": {
      "text/plain": [
       "X               195\n",
       "Filing Date       0\n",
       "Trade Date        0\n",
       "Ticker            0\n",
       "Insider Name      0\n",
       "Title             0\n",
       "Trade Type        0\n",
       "Price             0\n",
       "Qty               0\n",
       "Owned             0\n",
       "ΔOwn              0\n",
       "Value             0\n",
       "1d              135\n",
       "1w              137\n",
       "1m              140\n",
       "6m              164\n",
       "dtype: int64"
      ]
     },
     "execution_count": 20,
     "metadata": {},
     "output_type": "execute_result"
    }
   ],
   "source": [
    "raw_insiders_AAPL.isna().sum()"
   ]
  },
  {
   "cell_type": "markdown",
   "metadata": {},
   "source": [
    "# COMENTARIO\n",
    "\n",
    "Se encuentran valores nulos en 5 de 16 columnas, de momento no haré nada ya que más adelante estas columnas no representan un impacto significativo dentro del desarrollo del proyecto y tengo planeado eliminarlas."
   ]
  },
  {
   "cell_type": "code",
   "execution_count": 21,
   "metadata": {},
   "outputs": [],
   "source": [
    "# cambiar nombre de columnas para estandarizar\n",
    "raw_insiders_AAPL.columns = ['x', 'filing_date', 'trade_date', 'ticker', 'insider_name', 'title', 'trade_type', 'price', 'quantity_of_shares', 'owned', 'delta_owned', 'value', '1d', '1w', '1m', '6m']"
   ]
  },
  {
   "cell_type": "code",
   "execution_count": 22,
   "metadata": {},
   "outputs": [],
   "source": [
    "# cambiar tipo de datos de las columnas\n",
    "raw_insiders_AAPL['filing_date'] = pd.to_datetime(raw_insiders_AAPL['filing_date'])\n",
    "raw_insiders_AAPL['trade_date'] = pd.to_datetime(raw_insiders_AAPL['trade_date'])\n",
    "raw_insiders_AAPL['delta_owned'] = raw_insiders_AAPL['delta_owned'].astype(str)\n",
    "raw_insiders_AAPL['insider_name'] = raw_insiders_AAPL['insider_name'].astype(str)\n",
    "raw_insiders_AAPL['title'] = raw_insiders_AAPL['title'].astype(str)\n",
    "raw_insiders_AAPL['trade_type'] = raw_insiders_AAPL['trade_type'].astype(str)\n",
    "raw_insiders_AAPL['price'] = pd.to_numeric(raw_insiders_AAPL['price'].astype(str).str.replace('[$,]', '', regex=True), errors='coerce')\n",
    "raw_insiders_AAPL['quantity_of_shares'] = pd.to_numeric(raw_insiders_AAPL['quantity_of_shares'].astype(str).str.replace('[-,]', '', regex=True), errors='coerce').astype(int)\n",
    "raw_insiders_AAPL['owned'] = pd.to_numeric(raw_insiders_AAPL['owned'].astype(str).str.replace(',', '', regex=True), errors='coerce')\n",
    "raw_insiders_AAPL['value'] = pd.to_numeric(raw_insiders_AAPL['value'].astype(str).str.replace('[$,-]', '', regex=True), errors='coerce')\n"
   ]
  },
  {
   "cell_type": "code",
   "execution_count": 23,
   "metadata": {},
   "outputs": [
    {
     "name": "stdout",
     "output_type": "stream",
     "text": [
      "<class 'pandas.core.frame.DataFrame'>\n",
      "RangeIndex: 604 entries, 0 to 603\n",
      "Data columns (total 16 columns):\n",
      " #   Column              Non-Null Count  Dtype         \n",
      "---  ------              --------------  -----         \n",
      " 0   x                   409 non-null    object        \n",
      " 1   filing_date         604 non-null    datetime64[ns]\n",
      " 2   trade_date          604 non-null    datetime64[ns]\n",
      " 3   ticker              604 non-null    object        \n",
      " 4   insider_name        604 non-null    object        \n",
      " 5   title               604 non-null    object        \n",
      " 6   trade_type          604 non-null    object        \n",
      " 7   price               604 non-null    float64       \n",
      " 8   quantity_of_shares  604 non-null    int64         \n",
      " 9   owned               604 non-null    int64         \n",
      " 10  delta_owned         604 non-null    object        \n",
      " 11  value               604 non-null    int64         \n",
      " 12  1d                  469 non-null    float64       \n",
      " 13  1w                  467 non-null    float64       \n",
      " 14  1m                  464 non-null    float64       \n",
      " 15  6m                  440 non-null    float64       \n",
      "dtypes: datetime64[ns](2), float64(5), int64(3), object(6)\n",
      "memory usage: 75.6+ KB\n"
     ]
    }
   ],
   "source": [
    "raw_insiders_AAPL.info()"
   ]
  },
  {
   "cell_type": "code",
   "execution_count": 24,
   "metadata": {},
   "outputs": [
    {
     "data": {
      "text/html": [
       "<div>\n",
       "<style scoped>\n",
       "    .dataframe tbody tr th:only-of-type {\n",
       "        vertical-align: middle;\n",
       "    }\n",
       "\n",
       "    .dataframe tbody tr th {\n",
       "        vertical-align: top;\n",
       "    }\n",
       "\n",
       "    .dataframe thead th {\n",
       "        text-align: right;\n",
       "    }\n",
       "</style>\n",
       "<table border=\"1\" class=\"dataframe\">\n",
       "  <thead>\n",
       "    <tr style=\"text-align: right;\">\n",
       "      <th></th>\n",
       "      <th>x</th>\n",
       "      <th>filing_date</th>\n",
       "      <th>trade_date</th>\n",
       "      <th>ticker</th>\n",
       "      <th>insider_name</th>\n",
       "      <th>title</th>\n",
       "      <th>trade_type</th>\n",
       "      <th>price</th>\n",
       "      <th>quantity_of_shares</th>\n",
       "      <th>owned</th>\n",
       "      <th>delta_owned</th>\n",
       "      <th>value</th>\n",
       "      <th>1d</th>\n",
       "      <th>1w</th>\n",
       "      <th>1m</th>\n",
       "      <th>6m</th>\n",
       "    </tr>\n",
       "  </thead>\n",
       "  <tbody>\n",
       "    <tr>\n",
       "      <th>0</th>\n",
       "      <td>D</td>\n",
       "      <td>2004-04-21 19:07:40</td>\n",
       "      <td>2004-04-19</td>\n",
       "      <td>AAPL</td>\n",
       "      <td>Heinen Nancy R</td>\n",
       "      <td>SVP</td>\n",
       "      <td>S - Sale+OE</td>\n",
       "      <td>28.00</td>\n",
       "      <td>200000</td>\n",
       "      <td>1315</td>\n",
       "      <td>-99%</td>\n",
       "      <td>5600000</td>\n",
       "      <td>0.0</td>\n",
       "      <td>-3.0</td>\n",
       "      <td>-5.0</td>\n",
       "      <td>71.0</td>\n",
       "    </tr>\n",
       "    <tr>\n",
       "      <th>1</th>\n",
       "      <td>D</td>\n",
       "      <td>2004-04-21 19:08:35</td>\n",
       "      <td>2004-04-19</td>\n",
       "      <td>AAPL</td>\n",
       "      <td>Tamaddon Sina</td>\n",
       "      <td>SVP</td>\n",
       "      <td>S - Sale+OE</td>\n",
       "      <td>28.08</td>\n",
       "      <td>678400</td>\n",
       "      <td>6452</td>\n",
       "      <td>-99%</td>\n",
       "      <td>19046284</td>\n",
       "      <td>0.0</td>\n",
       "      <td>-3.0</td>\n",
       "      <td>-5.0</td>\n",
       "      <td>71.0</td>\n",
       "    </tr>\n",
       "    <tr>\n",
       "      <th>2</th>\n",
       "      <td>DM</td>\n",
       "      <td>2004-04-21 19:09:19</td>\n",
       "      <td>2004-04-19</td>\n",
       "      <td>AAPL</td>\n",
       "      <td>Rubinstein Jonathan</td>\n",
       "      <td>SVP</td>\n",
       "      <td>S - Sale+OE</td>\n",
       "      <td>28.35</td>\n",
       "      <td>250000</td>\n",
       "      <td>9906</td>\n",
       "      <td>-96%</td>\n",
       "      <td>7087500</td>\n",
       "      <td>0.0</td>\n",
       "      <td>-3.0</td>\n",
       "      <td>-5.0</td>\n",
       "      <td>71.0</td>\n",
       "    </tr>\n",
       "    <tr>\n",
       "      <th>3</th>\n",
       "      <td>D</td>\n",
       "      <td>2004-04-21 19:11:31</td>\n",
       "      <td>2004-04-19</td>\n",
       "      <td>AAPL</td>\n",
       "      <td>Cook Timothy D</td>\n",
       "      <td>EVP</td>\n",
       "      <td>S - Sale+OE</td>\n",
       "      <td>27.99</td>\n",
       "      <td>84000</td>\n",
       "      <td>4722</td>\n",
       "      <td>-95%</td>\n",
       "      <td>2351280</td>\n",
       "      <td>0.0</td>\n",
       "      <td>-3.0</td>\n",
       "      <td>-5.0</td>\n",
       "      <td>71.0</td>\n",
       "    </tr>\n",
       "    <tr>\n",
       "      <th>4</th>\n",
       "      <td>D</td>\n",
       "      <td>2004-04-21 19:12:19</td>\n",
       "      <td>2004-04-19</td>\n",
       "      <td>AAPL</td>\n",
       "      <td>Cook Timothy D</td>\n",
       "      <td>EVP</td>\n",
       "      <td>S - Sale+OE</td>\n",
       "      <td>28.21</td>\n",
       "      <td>94000</td>\n",
       "      <td>4722</td>\n",
       "      <td>-95%</td>\n",
       "      <td>2651880</td>\n",
       "      <td>0.0</td>\n",
       "      <td>-3.0</td>\n",
       "      <td>-5.0</td>\n",
       "      <td>71.0</td>\n",
       "    </tr>\n",
       "    <tr>\n",
       "      <th>...</th>\n",
       "      <td>...</td>\n",
       "      <td>...</td>\n",
       "      <td>...</td>\n",
       "      <td>...</td>\n",
       "      <td>...</td>\n",
       "      <td>...</td>\n",
       "      <td>...</td>\n",
       "      <td>...</td>\n",
       "      <td>...</td>\n",
       "      <td>...</td>\n",
       "      <td>...</td>\n",
       "      <td>...</td>\n",
       "      <td>...</td>\n",
       "      <td>...</td>\n",
       "      <td>...</td>\n",
       "      <td>...</td>\n",
       "    </tr>\n",
       "    <tr>\n",
       "      <th>599</th>\n",
       "      <td>NaN</td>\n",
       "      <td>2024-10-08 18:30:13</td>\n",
       "      <td>2024-10-04</td>\n",
       "      <td>AAPL</td>\n",
       "      <td>Maestri Luca</td>\n",
       "      <td>SVP, CFO</td>\n",
       "      <td>S - Sale</td>\n",
       "      <td>226.52</td>\n",
       "      <td>59305</td>\n",
       "      <td>107788</td>\n",
       "      <td>-35%</td>\n",
       "      <td>13433769</td>\n",
       "      <td>NaN</td>\n",
       "      <td>NaN</td>\n",
       "      <td>NaN</td>\n",
       "      <td>NaN</td>\n",
       "    </tr>\n",
       "    <tr>\n",
       "      <th>600</th>\n",
       "      <td>NaN</td>\n",
       "      <td>2024-11-19 18:30:49</td>\n",
       "      <td>2024-11-18</td>\n",
       "      <td>AAPL</td>\n",
       "      <td>Kondo Chris</td>\n",
       "      <td>Principal Accounting Officer</td>\n",
       "      <td>S - Sale</td>\n",
       "      <td>228.87</td>\n",
       "      <td>4130</td>\n",
       "      <td>15419</td>\n",
       "      <td>-21%</td>\n",
       "      <td>945233</td>\n",
       "      <td>NaN</td>\n",
       "      <td>NaN</td>\n",
       "      <td>NaN</td>\n",
       "      <td>NaN</td>\n",
       "    </tr>\n",
       "    <tr>\n",
       "      <th>601</th>\n",
       "      <td>M</td>\n",
       "      <td>2024-11-19 18:31:42</td>\n",
       "      <td>2024-11-15</td>\n",
       "      <td>AAPL</td>\n",
       "      <td>Levinson Arthur D</td>\n",
       "      <td>Dir</td>\n",
       "      <td>S - Sale</td>\n",
       "      <td>227.32</td>\n",
       "      <td>200000</td>\n",
       "      <td>4215576</td>\n",
       "      <td>-5%</td>\n",
       "      <td>45464500</td>\n",
       "      <td>NaN</td>\n",
       "      <td>NaN</td>\n",
       "      <td>NaN</td>\n",
       "      <td>NaN</td>\n",
       "    </tr>\n",
       "    <tr>\n",
       "      <th>602</th>\n",
       "      <td>NaN</td>\n",
       "      <td>2024-12-18 18:30:20</td>\n",
       "      <td>2024-12-16</td>\n",
       "      <td>AAPL</td>\n",
       "      <td>Williams Jeffrey E</td>\n",
       "      <td>COO</td>\n",
       "      <td>S - Sale</td>\n",
       "      <td>249.97</td>\n",
       "      <td>100000</td>\n",
       "      <td>389944</td>\n",
       "      <td>-20%</td>\n",
       "      <td>24997395</td>\n",
       "      <td>NaN</td>\n",
       "      <td>NaN</td>\n",
       "      <td>NaN</td>\n",
       "      <td>NaN</td>\n",
       "    </tr>\n",
       "    <tr>\n",
       "      <th>603</th>\n",
       "      <td>D</td>\n",
       "      <td>2025-02-04 18:33:25</td>\n",
       "      <td>2025-02-03</td>\n",
       "      <td>AAPL</td>\n",
       "      <td>Levinson Arthur D</td>\n",
       "      <td>Dir</td>\n",
       "      <td>S - Sale+OE</td>\n",
       "      <td>226.35</td>\n",
       "      <td>1516</td>\n",
       "      <td>4215576</td>\n",
       "      <td>0%</td>\n",
       "      <td>343147</td>\n",
       "      <td>NaN</td>\n",
       "      <td>NaN</td>\n",
       "      <td>NaN</td>\n",
       "      <td>NaN</td>\n",
       "    </tr>\n",
       "  </tbody>\n",
       "</table>\n",
       "<p>604 rows × 16 columns</p>\n",
       "</div>"
      ],
      "text/plain": [
       "       x         filing_date trade_date ticker         insider_name  \\\n",
       "0      D 2004-04-21 19:07:40 2004-04-19   AAPL       Heinen Nancy R   \n",
       "1      D 2004-04-21 19:08:35 2004-04-19   AAPL        Tamaddon Sina   \n",
       "2     DM 2004-04-21 19:09:19 2004-04-19   AAPL  Rubinstein Jonathan   \n",
       "3      D 2004-04-21 19:11:31 2004-04-19   AAPL       Cook Timothy D   \n",
       "4      D 2004-04-21 19:12:19 2004-04-19   AAPL       Cook Timothy D   \n",
       "..   ...                 ...        ...    ...                  ...   \n",
       "599  NaN 2024-10-08 18:30:13 2024-10-04   AAPL         Maestri Luca   \n",
       "600  NaN 2024-11-19 18:30:49 2024-11-18   AAPL          Kondo Chris   \n",
       "601    M 2024-11-19 18:31:42 2024-11-15   AAPL    Levinson Arthur D   \n",
       "602  NaN 2024-12-18 18:30:20 2024-12-16   AAPL   Williams Jeffrey E   \n",
       "603    D 2025-02-04 18:33:25 2025-02-03   AAPL    Levinson Arthur D   \n",
       "\n",
       "                            title   trade_type   price  quantity_of_shares  \\\n",
       "0                             SVP  S - Sale+OE   28.00              200000   \n",
       "1                             SVP  S - Sale+OE   28.08              678400   \n",
       "2                             SVP  S - Sale+OE   28.35              250000   \n",
       "3                             EVP  S - Sale+OE   27.99               84000   \n",
       "4                             EVP  S - Sale+OE   28.21               94000   \n",
       "..                            ...          ...     ...                 ...   \n",
       "599                      SVP, CFO     S - Sale  226.52               59305   \n",
       "600  Principal Accounting Officer     S - Sale  228.87                4130   \n",
       "601                           Dir     S - Sale  227.32              200000   \n",
       "602                           COO     S - Sale  249.97              100000   \n",
       "603                           Dir  S - Sale+OE  226.35                1516   \n",
       "\n",
       "       owned delta_owned     value   1d   1w   1m    6m  \n",
       "0       1315        -99%   5600000  0.0 -3.0 -5.0  71.0  \n",
       "1       6452        -99%  19046284  0.0 -3.0 -5.0  71.0  \n",
       "2       9906        -96%   7087500  0.0 -3.0 -5.0  71.0  \n",
       "3       4722        -95%   2351280  0.0 -3.0 -5.0  71.0  \n",
       "4       4722        -95%   2651880  0.0 -3.0 -5.0  71.0  \n",
       "..       ...         ...       ...  ...  ...  ...   ...  \n",
       "599   107788        -35%  13433769  NaN  NaN  NaN   NaN  \n",
       "600    15419        -21%    945233  NaN  NaN  NaN   NaN  \n",
       "601  4215576         -5%  45464500  NaN  NaN  NaN   NaN  \n",
       "602   389944        -20%  24997395  NaN  NaN  NaN   NaN  \n",
       "603  4215576          0%    343147  NaN  NaN  NaN   NaN  \n",
       "\n",
       "[604 rows x 16 columns]"
      ]
     },
     "execution_count": 24,
     "metadata": {},
     "output_type": "execute_result"
    }
   ],
   "source": [
    "raw_insiders_AAPL"
   ]
  },
  {
   "cell_type": "code",
   "execution_count": 25,
   "metadata": {},
   "outputs": [
    {
     "data": {
      "text/plain": [
       "array(['Heinen Nancy R', 'Tamaddon Sina', 'Rubinstein Jonathan',\n",
       "       'Cook Timothy D', 'Anderson Fred D', 'Schiller Philip W',\n",
       "       'Tevanian Avadis', 'Serlet Bertrand', 'York Jerome B',\n",
       "       'Johnson Ronald B', 'Levinson Arthur D', 'Oppenheimer Peter',\n",
       "       'Fadell Anthony', 'Schmidt Eric E', 'Campbell William V',\n",
       "       'Drexler Millard S', 'Ive Jonathan P', 'Forstall Scott J',\n",
       "       'Mansfield Robert J', 'Rafael Betsy', 'Papermaster Mark D',\n",
       "       'Sewell D Bruce', 'Williams Jeffrey E', 'Jung Andrea',\n",
       "       'Iger Robert A', 'Riccio Daniel J.', 'Mansfield Robert L',\n",
       "       'Cue Eduardo H', 'Maestri Luca', 'Federighi Craig',\n",
       "       'Ahrendts Angela J', 'Wagner Susan', 'Srouji Johny', 'Kondo Chris',\n",
       "       'Gore Albert Jr', \"O'Brien Deirdre\", 'Adams Katherine L.'],\n",
       "      dtype=object)"
      ]
     },
     "execution_count": 25,
     "metadata": {},
     "output_type": "execute_result"
    }
   ],
   "source": [
    "# consultar los nombres de directivos a lo largo del tiempo y validar que no existan duplicados en los nombres por errores de typeo o de extracción de datos.\n",
    "insider_name = raw_insiders_AAPL['insider_name'].unique()\n",
    "insider_name\n"
   ]
  },
  {
   "cell_type": "code",
   "execution_count": 26,
   "metadata": {},
   "outputs": [
    {
     "data": {
      "text/plain": [
       "np.int64(0)"
      ]
     },
     "execution_count": 26,
     "metadata": {},
     "output_type": "execute_result"
    }
   ],
   "source": [
    "pd.Series(insider_name).duplicated().sum()"
   ]
  },
  {
   "cell_type": "markdown",
   "metadata": {},
   "source": [
    "# COMENTARIO\n",
    "Con esta validación quería asegurarme que por ejemplo una persona no tenga registrado su nombre de diferente forma, por ejemplo \"TIM COOK\", \"COOK TIMOTHY D\", \"TIMOTHY COOK\"; las 3 formas antes escritas se refieren a la misma persona. En este caso, no existen diferentes formas de escribir el nombre al referirse a una misma persona, puedo continuar con el análisis."
   ]
  },
  {
   "cell_type": "code",
   "execution_count": 27,
   "metadata": {},
   "outputs": [
    {
     "data": {
      "text/plain": [
       "array(['SVP', 'EVP', 'Dir', 'COO', 'CFO', 'SVP, CFO',\n",
       "       'VP, Controller, PAO', \"SVP, Gen'l Counsel, Secretary\",\n",
       "       'VP, Corporate Controller', 'CEO', 'Principal Accounting Officer',\n",
       "       'SVP, GC, Secretary'], dtype=object)"
      ]
     },
     "execution_count": 27,
     "metadata": {},
     "output_type": "execute_result"
    }
   ],
   "source": [
    "cargo_duplicado = raw_insiders_AAPL['title'].unique()\n",
    "cargo_duplicado"
   ]
  },
  {
   "cell_type": "code",
   "execution_count": 28,
   "metadata": {},
   "outputs": [
    {
     "data": {
      "text/plain": [
       "np.int64(0)"
      ]
     },
     "execution_count": 28,
     "metadata": {},
     "output_type": "execute_result"
    }
   ],
   "source": [
    "cargo_duplicado_series = pd.Series(cargo_duplicado)\n",
    "cargo_duplicado_series.duplicated().sum()"
   ]
  },
  {
   "cell_type": "markdown",
   "metadata": {},
   "source": [
    "# COMENTARIO\n",
    "Realicé el mismo procedimiento anterior, ahora con la columna 'title'. En este caso podemos observar que el registro \"SVP\", \"VP\", \"Controller\" se repiten al momento de imprimir por primera vez \"cargo duplicado\", sin embargo, al momento de aplicar el .duplicated no lo reconoce, por lo tanto no salta como registro duplicado.\n",
    "Esto sucede a que pueden llegar a existir varias líneas que contienen SVP más otro tipo de texto, esto lo voy a comprobar a continuación"
   ]
  },
  {
   "cell_type": "code",
   "execution_count": 29,
   "metadata": {},
   "outputs": [
    {
     "name": "stdout",
     "output_type": "stream",
     "text": [
      "0                               SVP\n",
      "5                          SVP, CFO\n",
      "7     SVP, Gen'l Counsel, Secretary\n",
      "11               SVP, GC, Secretary\n",
      "dtype: object\n",
      "0                               SVP\n",
      "1                               EVP\n",
      "5                          SVP, CFO\n",
      "6               VP, Controller, PAO\n",
      "7     SVP, Gen'l Counsel, Secretary\n",
      "8          VP, Corporate Controller\n",
      "11               SVP, GC, Secretary\n",
      "dtype: object\n",
      "6         VP, Controller, PAO\n",
      "8    VP, Corporate Controller\n",
      "dtype: object\n"
     ]
    }
   ],
   "source": [
    "\n",
    "cargo_duplicado_filtrado_svp = cargo_duplicado_series[cargo_duplicado_series.str.contains('SVP')]\n",
    "print(cargo_duplicado_filtrado_svp)\n",
    "cargo_duplicado_filtrado_vp = cargo_duplicado_series[cargo_duplicado_series.str.contains('VP')]\n",
    "print(cargo_duplicado_filtrado_vp)\n",
    "cargo_duplicado_filtrado_controller = cargo_duplicado_series[cargo_duplicado_series.str.contains('Controller')]\n",
    "print(cargo_duplicado_filtrado_controller)"
   ]
  },
  {
   "cell_type": "markdown",
   "metadata": {},
   "source": [
    "# COMENTARIO\n",
    "En efecto, se observa que hay líneas que tienen más de un cargo, esto representaría un problema más adelante ya que se debe escoger solo un cargo. Lo que se me ocurre es reemplazar estos casos con el primer título que tengan, excepto en el caso de SVP, CFO; ahí voy a colocar CFO. Esto lo haré más adelante en la limpieza de datos."
   ]
  },
  {
   "cell_type": "code",
   "execution_count": 30,
   "metadata": {},
   "outputs": [
    {
     "data": {
      "text/plain": [
       "array(['S - Sale+OE', 'S - Sale', 'P - Purchase'], dtype=object)"
      ]
     },
     "execution_count": 30,
     "metadata": {},
     "output_type": "execute_result"
    }
   ],
   "source": [
    "# revisar cuantos tipos de transacción existen\n",
    "\n",
    "raw_insiders_AAPL['trade_type'].unique()"
   ]
  },
  {
   "cell_type": "markdown",
   "metadata": {},
   "source": [
    "# COMENTARIO\n",
    "# Existen 3 tipos de transacciones:\n",
    "Sale+OE = significa que una acción fue vendida luego de haberse ejecutado un contrato de opciones. (put option) Es un contrato financiero que otorga al comprador el derecho, pero no la obligación, de vender un activo subyacente a un precio específico (precio de ejercicio o strike price) en o antes de una fecha de vencimiento determinada.\n",
    "Una opción de venta es una herramienta para protegerse contra la caída del precio de un activo o para especular sobre su posible disminución.\n",
    "\n",
    "Sale = la venta normal de las acciones.\n",
    "\n",
    "Purchase = compra de acciones "
   ]
  },
  {
   "cell_type": "code",
   "execution_count": 31,
   "metadata": {},
   "outputs": [
    {
     "data": {
      "text/plain": [
       "count    6.040000e+02\n",
       "mean     6.537933e+04\n",
       "std      1.314147e+05\n",
       "min      2.500000e+01\n",
       "25%      1.015475e+04\n",
       "50%      2.815000e+04\n",
       "75%      6.647550e+04\n",
       "max      2.386440e+06\n",
       "Name: quantity_of_shares, dtype: float64"
      ]
     },
     "execution_count": 31,
     "metadata": {},
     "output_type": "execute_result"
    }
   ],
   "source": [
    "# revisar minimos y máximos en quantity_of_shares\n",
    "\n",
    "raw_insiders_AAPL['quantity_of_shares'].describe()\n"
   ]
  },
  {
   "cell_type": "markdown",
   "metadata": {},
   "source": [
    "# COMENTARIO\n",
    "El valor mínimo de acciones negociadas fue de 25 acciones y el máximo fue de 2'386.440. "
   ]
  },
  {
   "cell_type": "code",
   "execution_count": 32,
   "metadata": {},
   "outputs": [
    {
     "name": "stdout",
     "output_type": "stream",
     "text": [
      "2,386,440\n",
      "700,000\n",
      "678,400\n",
      "500,000\n",
      "470,000\n",
      "450,000\n",
      "350,000\n",
      "348,846\n",
      "348,425\n",
      "335,000\n",
      "334,000\n",
      "300,000\n",
      "275,000\n",
      "269,883\n",
      "268,644\n",
      "268,623\n",
      "265,160\n",
      "261,934\n",
      "257,343\n",
      "257,000\n",
      "250,000\n",
      "243,431\n",
      "240,569\n",
      "235,000\n",
      "223,986\n",
      "220,000\n",
      "215,437\n",
      "200,000\n",
      "196,410\n",
      "187,730\n",
      "181,139\n",
      "176,299\n",
      "175,000\n",
      "165,829\n",
      "159,960\n",
      "158,237\n",
      "158,000\n",
      "154,000\n",
      "150,000\n",
      "140,693\n",
      "136,341\n",
      "135,625\n",
      "133,867\n",
      "131,250\n",
      "131,203\n",
      "130,000\n",
      "125,000\n",
      "123,448\n",
      "122,000\n",
      "121,072\n"
     ]
    }
   ],
   "source": [
    "# revisar las cantidades de acciones se han negociado\n",
    "\n",
    "sorted_shares = np.sort((raw_insiders_AAPL['quantity_of_shares'] / 1e6).unique())[::-1]\n",
    "\n",
    "\n",
    "formatted_shares = [f\"{int(val * 1e6):,}\" for val in sorted_shares]\n",
    "\n",
    "# Mostrar solo los primeros valores con un formato más legible\n",
    "print(\"\\n\".join(formatted_shares[:50]))  \n",
    "\n",
    "\n"
   ]
  },
  {
   "cell_type": "markdown",
   "metadata": {},
   "source": [
    "# COMENTARIO\n",
    "Se observa que la transacción más alta fue de mas de 2M de acciones y le sigue una de 700K. "
   ]
  },
  {
   "cell_type": "code",
   "execution_count": 33,
   "metadata": {},
   "outputs": [
    {
     "data": {
      "image/png": "[encoded data removed]",
      "text/plain": [
       "<Figure size 640x480 with 1 Axes>"
      ]
     },
     "metadata": {},
     "output_type": "display_data"
    }
   ],
   "source": [
    "# boxplot de quantity_of_shares\n",
    "\n",
    "(raw_insiders_AAPL['quantity_of_shares'] / 1e6).plot(\n",
    "    kind='box',\n",
    "    title='Distribución de outliers en cantidad de acciones',\n",
    "    ylabel='Cantidad (en millones)'\n",
    "    \n",
    ")\n",
    "\n",
    "plt.show()"
   ]
  },
  {
   "cell_type": "markdown",
   "metadata": {},
   "source": [
    "# COMENTARIO\n",
    "La mayoría de transacciones se concentra entre los 10K a 300K de acciones negociadas."
   ]
  },
  {
   "cell_type": "code",
   "execution_count": 34,
   "metadata": {},
   "outputs": [
    {
     "data": {
      "image/png": "[encoded data removed]",
      "text/plain": [
       "<Figure size 1000x600 with 1 Axes>"
      ]
     },
     "metadata": {},
     "output_type": "display_data"
    }
   ],
   "source": [
    "# scatterplot de quantity_of_shares\n",
    "\n",
    "plt.figure(figsize=(10, 6))\n",
    "plt.scatter(\n",
    "    raw_insiders_AAPL['trade_date'],\n",
    "    raw_insiders_AAPL['quantity_of_shares'] / 1e6,\n",
    "    alpha=0.6,\n",
    "    c='blue',\n",
    "    edgecolor='k'\n",
    ")\n",
    "plt.title('Scatterplot de cantidad de acciones de AAPL negociadas en el tiempo')\n",
    "plt.xlabel('Fecha')\n",
    "plt.ylabel('Cantidad de acciones (millones)')\n",
    "plt.xticks(rotation=45)\n",
    "plt.tight_layout()\n",
    "plt.show()"
   ]
  },
  {
   "cell_type": "code",
   "execution_count": 35,
   "metadata": {},
   "outputs": [
    {
     "data": {
      "image/png": "[encoded data removed]",
      "text/plain": [
       "<Figure size 640x480 with 1 Axes>"
      ]
     },
     "metadata": {},
     "output_type": "display_data"
    }
   ],
   "source": [
    "# graficos básicos\n",
    "ax = raw_insiders_AAPL['trade_type'].value_counts().plot(\n",
    "    kind='bar',\n",
    "    title='Conteo de transacciones por tipo de transacción de AAPL',\n",
    "    xlabel='Tipo de transacción',\n",
    "    ylabel='Cantidad'\n",
    ")\n",
    "plt.xticks(rotation=45)\n",
    "\n",
    "# Agregar etiquetas encima de las barras\n",
    "ax.bar_label(ax.containers[0])\n",
    "\n",
    "plt.show()\n"
   ]
  },
  {
   "cell_type": "markdown",
   "metadata": {},
   "source": [
    "# COMENTARIO\n",
    "Existen más transacciones por Sale+OE que por Sale y apenas 6 compras de acciones. Las caídas de precio de la acción generalmente están asociadas a las ventas de acciones debido a la especulación o que el mercado ha entrado en pánico."
   ]
  },
  {
   "cell_type": "code",
   "execution_count": 36,
   "metadata": {},
   "outputs": [
    {
     "data": {
      "image/png": "[encoded data removed]",
      "text/plain": [
       "<Figure size 640x480 with 1 Axes>"
      ]
     },
     "metadata": {},
     "output_type": "display_data"
    }
   ],
   "source": [
    "# histograma para saber cuales son los directivos ha realizado más transacciones (máximo 10 directivos)\n",
    "ax = raw_insiders_AAPL['insider_name'].value_counts().head(10).plot(\n",
    "    kind='bar',\n",
    "    title='Conteo de transacciones por directivo de AAPL',\n",
    "    xlabel='Directivo',\n",
    "    ylabel='Cantidad de transacciones'\n",
    ")"
   ]
  },
  {
   "cell_type": "markdown",
   "metadata": {},
   "source": [
    "# COMENTARIO\n",
    "En un gráfico que se ha extraído los 10 directivos que más han realizado transacciones de acciones se puede observar a Tim Cook, actual CEO."
   ]
  },
  {
   "cell_type": "code",
   "execution_count": 37,
   "metadata": {},
   "outputs": [
    {
     "name": "stderr",
     "output_type": "stream",
     "text": [
      "C:\\Users\\santi\\AppData\\Local\\Temp\\ipykernel_30568\\2730243544.py:5: UserWarning: Ignoring `palette` because no `hue` variable has been assigned.\n",
      "  sns.lineplot(data=raw_insiders_AAPL, x='trade_date', y=raw_insiders_AAPL['quantity_of_shares'] / 1e6, palette='Set2')\n"
     ]
    },
    {
     "data": {
      "image/png": "[encoded data removed]",
      "text/plain": [
       "<Figure size 1500x600 with 1 Axes>"
      ]
     },
     "metadata": {},
     "output_type": "display_data"
    }
   ],
   "source": [
    "import matplotlib.dates as mdates\n",
    "\n",
    "# evolución de cantidad de acciones vendidas en el tiempo usando seaborn\n",
    "plt.figure(figsize=(15, 6))\n",
    "sns.lineplot(data=raw_insiders_AAPL, x='trade_date', y=raw_insiders_AAPL['quantity_of_shares'] / 1e6, palette='Set2')\n",
    "plt.title('Evolución de cantidad de acciones de AAPL vendidas en el tiempo')\n",
    "plt.xlabel('Fecha')\n",
    "plt.ylabel('Cantidad de acciones vendidas (millones)')\n",
    "\n",
    "# Ajustar los ticks del eje x para mostrar más años\n",
    "plt.gca().xaxis.set_major_locator(mdates.YearLocator(1))  # Mostrar cada año\n",
    "plt.gca().xaxis.set_major_formatter(mdates.DateFormatter('%Y'))  # Formato del año\n",
    "\n",
    "plt.xticks(rotation=45)\n",
    "plt.tight_layout()\n",
    "plt.show()\n"
   ]
  },
  {
   "cell_type": "markdown",
   "metadata": {},
   "source": [
    "# COMENTARIO\n",
    "\n",
    "En el 2021 hubo un pico de negociaciones de acciones, es justamente el valor máximo negociado. Como se observa en el gráfico, a lo largo de los años las transacciones se han mantenido entre un rango de 1K a 300K de acciones. "
   ]
  },
  {
   "cell_type": "code",
   "execution_count": 38,
   "metadata": {},
   "outputs": [
    {
     "data": {
      "text/html": [
       "<div>\n",
       "<style scoped>\n",
       "    .dataframe tbody tr th:only-of-type {\n",
       "        vertical-align: middle;\n",
       "    }\n",
       "\n",
       "    .dataframe tbody tr th {\n",
       "        vertical-align: top;\n",
       "    }\n",
       "\n",
       "    .dataframe thead th {\n",
       "        text-align: right;\n",
       "    }\n",
       "</style>\n",
       "<table border=\"1\" class=\"dataframe\">\n",
       "  <thead>\n",
       "    <tr style=\"text-align: right;\">\n",
       "      <th></th>\n",
       "      <th>x</th>\n",
       "      <th>filing_date</th>\n",
       "      <th>trade_date</th>\n",
       "      <th>ticker</th>\n",
       "      <th>insider_name</th>\n",
       "      <th>title</th>\n",
       "      <th>trade_type</th>\n",
       "      <th>price</th>\n",
       "      <th>quantity_of_shares</th>\n",
       "      <th>owned</th>\n",
       "      <th>delta_owned</th>\n",
       "      <th>value</th>\n",
       "      <th>1d</th>\n",
       "      <th>1w</th>\n",
       "      <th>1m</th>\n",
       "      <th>6m</th>\n",
       "    </tr>\n",
       "  </thead>\n",
       "  <tbody>\n",
       "    <tr>\n",
       "      <th>0</th>\n",
       "      <td>D</td>\n",
       "      <td>2004-04-21 19:07:40</td>\n",
       "      <td>2004-04-19</td>\n",
       "      <td>AAPL</td>\n",
       "      <td>Heinen Nancy R</td>\n",
       "      <td>SVP</td>\n",
       "      <td>S - Sale+OE</td>\n",
       "      <td>28.00</td>\n",
       "      <td>200000</td>\n",
       "      <td>1315</td>\n",
       "      <td>-99%</td>\n",
       "      <td>5600000</td>\n",
       "      <td>0.0</td>\n",
       "      <td>-3.0</td>\n",
       "      <td>-5.0</td>\n",
       "      <td>71.0</td>\n",
       "    </tr>\n",
       "    <tr>\n",
       "      <th>1</th>\n",
       "      <td>D</td>\n",
       "      <td>2004-04-21 19:08:35</td>\n",
       "      <td>2004-04-19</td>\n",
       "      <td>AAPL</td>\n",
       "      <td>Tamaddon Sina</td>\n",
       "      <td>SVP</td>\n",
       "      <td>S - Sale+OE</td>\n",
       "      <td>28.08</td>\n",
       "      <td>678400</td>\n",
       "      <td>6452</td>\n",
       "      <td>-99%</td>\n",
       "      <td>19046284</td>\n",
       "      <td>0.0</td>\n",
       "      <td>-3.0</td>\n",
       "      <td>-5.0</td>\n",
       "      <td>71.0</td>\n",
       "    </tr>\n",
       "    <tr>\n",
       "      <th>2</th>\n",
       "      <td>DM</td>\n",
       "      <td>2004-04-21 19:09:19</td>\n",
       "      <td>2004-04-19</td>\n",
       "      <td>AAPL</td>\n",
       "      <td>Rubinstein Jonathan</td>\n",
       "      <td>SVP</td>\n",
       "      <td>S - Sale+OE</td>\n",
       "      <td>28.35</td>\n",
       "      <td>250000</td>\n",
       "      <td>9906</td>\n",
       "      <td>-96%</td>\n",
       "      <td>7087500</td>\n",
       "      <td>0.0</td>\n",
       "      <td>-3.0</td>\n",
       "      <td>-5.0</td>\n",
       "      <td>71.0</td>\n",
       "    </tr>\n",
       "    <tr>\n",
       "      <th>3</th>\n",
       "      <td>D</td>\n",
       "      <td>2004-04-21 19:11:31</td>\n",
       "      <td>2004-04-19</td>\n",
       "      <td>AAPL</td>\n",
       "      <td>Cook Timothy D</td>\n",
       "      <td>EVP</td>\n",
       "      <td>S - Sale+OE</td>\n",
       "      <td>27.99</td>\n",
       "      <td>84000</td>\n",
       "      <td>4722</td>\n",
       "      <td>-95%</td>\n",
       "      <td>2351280</td>\n",
       "      <td>0.0</td>\n",
       "      <td>-3.0</td>\n",
       "      <td>-5.0</td>\n",
       "      <td>71.0</td>\n",
       "    </tr>\n",
       "    <tr>\n",
       "      <th>4</th>\n",
       "      <td>D</td>\n",
       "      <td>2004-04-21 19:12:19</td>\n",
       "      <td>2004-04-19</td>\n",
       "      <td>AAPL</td>\n",
       "      <td>Cook Timothy D</td>\n",
       "      <td>EVP</td>\n",
       "      <td>S - Sale+OE</td>\n",
       "      <td>28.21</td>\n",
       "      <td>94000</td>\n",
       "      <td>4722</td>\n",
       "      <td>-95%</td>\n",
       "      <td>2651880</td>\n",
       "      <td>0.0</td>\n",
       "      <td>-3.0</td>\n",
       "      <td>-5.0</td>\n",
       "      <td>71.0</td>\n",
       "    </tr>\n",
       "    <tr>\n",
       "      <th>...</th>\n",
       "      <td>...</td>\n",
       "      <td>...</td>\n",
       "      <td>...</td>\n",
       "      <td>...</td>\n",
       "      <td>...</td>\n",
       "      <td>...</td>\n",
       "      <td>...</td>\n",
       "      <td>...</td>\n",
       "      <td>...</td>\n",
       "      <td>...</td>\n",
       "      <td>...</td>\n",
       "      <td>...</td>\n",
       "      <td>...</td>\n",
       "      <td>...</td>\n",
       "      <td>...</td>\n",
       "      <td>...</td>\n",
       "    </tr>\n",
       "    <tr>\n",
       "      <th>599</th>\n",
       "      <td>NaN</td>\n",
       "      <td>2024-10-08 18:30:13</td>\n",
       "      <td>2024-10-04</td>\n",
       "      <td>AAPL</td>\n",
       "      <td>Maestri Luca</td>\n",
       "      <td>SVP, CFO</td>\n",
       "      <td>S - Sale</td>\n",
       "      <td>226.52</td>\n",
       "      <td>59305</td>\n",
       "      <td>107788</td>\n",
       "      <td>-35%</td>\n",
       "      <td>13433769</td>\n",
       "      <td>NaN</td>\n",
       "      <td>NaN</td>\n",
       "      <td>NaN</td>\n",
       "      <td>NaN</td>\n",
       "    </tr>\n",
       "    <tr>\n",
       "      <th>600</th>\n",
       "      <td>NaN</td>\n",
       "      <td>2024-11-19 18:30:49</td>\n",
       "      <td>2024-11-18</td>\n",
       "      <td>AAPL</td>\n",
       "      <td>Kondo Chris</td>\n",
       "      <td>Principal Accounting Officer</td>\n",
       "      <td>S - Sale</td>\n",
       "      <td>228.87</td>\n",
       "      <td>4130</td>\n",
       "      <td>15419</td>\n",
       "      <td>-21%</td>\n",
       "      <td>945233</td>\n",
       "      <td>NaN</td>\n",
       "      <td>NaN</td>\n",
       "      <td>NaN</td>\n",
       "      <td>NaN</td>\n",
       "    </tr>\n",
       "    <tr>\n",
       "      <th>601</th>\n",
       "      <td>M</td>\n",
       "      <td>2024-11-19 18:31:42</td>\n",
       "      <td>2024-11-15</td>\n",
       "      <td>AAPL</td>\n",
       "      <td>Levinson Arthur D</td>\n",
       "      <td>Dir</td>\n",
       "      <td>S - Sale</td>\n",
       "      <td>227.32</td>\n",
       "      <td>200000</td>\n",
       "      <td>4215576</td>\n",
       "      <td>-5%</td>\n",
       "      <td>45464500</td>\n",
       "      <td>NaN</td>\n",
       "      <td>NaN</td>\n",
       "      <td>NaN</td>\n",
       "      <td>NaN</td>\n",
       "    </tr>\n",
       "    <tr>\n",
       "      <th>602</th>\n",
       "      <td>NaN</td>\n",
       "      <td>2024-12-18 18:30:20</td>\n",
       "      <td>2024-12-16</td>\n",
       "      <td>AAPL</td>\n",
       "      <td>Williams Jeffrey E</td>\n",
       "      <td>COO</td>\n",
       "      <td>S - Sale</td>\n",
       "      <td>249.97</td>\n",
       "      <td>100000</td>\n",
       "      <td>389944</td>\n",
       "      <td>-20%</td>\n",
       "      <td>24997395</td>\n",
       "      <td>NaN</td>\n",
       "      <td>NaN</td>\n",
       "      <td>NaN</td>\n",
       "      <td>NaN</td>\n",
       "    </tr>\n",
       "    <tr>\n",
       "      <th>603</th>\n",
       "      <td>D</td>\n",
       "      <td>2025-02-04 18:33:25</td>\n",
       "      <td>2025-02-03</td>\n",
       "      <td>AAPL</td>\n",
       "      <td>Levinson Arthur D</td>\n",
       "      <td>Dir</td>\n",
       "      <td>S - Sale+OE</td>\n",
       "      <td>226.35</td>\n",
       "      <td>1516</td>\n",
       "      <td>4215576</td>\n",
       "      <td>0%</td>\n",
       "      <td>343147</td>\n",
       "      <td>NaN</td>\n",
       "      <td>NaN</td>\n",
       "      <td>NaN</td>\n",
       "      <td>NaN</td>\n",
       "    </tr>\n",
       "  </tbody>\n",
       "</table>\n",
       "<p>604 rows × 16 columns</p>\n",
       "</div>"
      ],
      "text/plain": [
       "       x         filing_date trade_date ticker         insider_name  \\\n",
       "0      D 2004-04-21 19:07:40 2004-04-19   AAPL       Heinen Nancy R   \n",
       "1      D 2004-04-21 19:08:35 2004-04-19   AAPL        Tamaddon Sina   \n",
       "2     DM 2004-04-21 19:09:19 2004-04-19   AAPL  Rubinstein Jonathan   \n",
       "3      D 2004-04-21 19:11:31 2004-04-19   AAPL       Cook Timothy D   \n",
       "4      D 2004-04-21 19:12:19 2004-04-19   AAPL       Cook Timothy D   \n",
       "..   ...                 ...        ...    ...                  ...   \n",
       "599  NaN 2024-10-08 18:30:13 2024-10-04   AAPL         Maestri Luca   \n",
       "600  NaN 2024-11-19 18:30:49 2024-11-18   AAPL          Kondo Chris   \n",
       "601    M 2024-11-19 18:31:42 2024-11-15   AAPL    Levinson Arthur D   \n",
       "602  NaN 2024-12-18 18:30:20 2024-12-16   AAPL   Williams Jeffrey E   \n",
       "603    D 2025-02-04 18:33:25 2025-02-03   AAPL    Levinson Arthur D   \n",
       "\n",
       "                            title   trade_type   price  quantity_of_shares  \\\n",
       "0                             SVP  S - Sale+OE   28.00              200000   \n",
       "1                             SVP  S - Sale+OE   28.08              678400   \n",
       "2                             SVP  S - Sale+OE   28.35              250000   \n",
       "3                             EVP  S - Sale+OE   27.99               84000   \n",
       "4                             EVP  S - Sale+OE   28.21               94000   \n",
       "..                            ...          ...     ...                 ...   \n",
       "599                      SVP, CFO     S - Sale  226.52               59305   \n",
       "600  Principal Accounting Officer     S - Sale  228.87                4130   \n",
       "601                           Dir     S - Sale  227.32              200000   \n",
       "602                           COO     S - Sale  249.97              100000   \n",
       "603                           Dir  S - Sale+OE  226.35                1516   \n",
       "\n",
       "       owned delta_owned     value   1d   1w   1m    6m  \n",
       "0       1315        -99%   5600000  0.0 -3.0 -5.0  71.0  \n",
       "1       6452        -99%  19046284  0.0 -3.0 -5.0  71.0  \n",
       "2       9906        -96%   7087500  0.0 -3.0 -5.0  71.0  \n",
       "3       4722        -95%   2351280  0.0 -3.0 -5.0  71.0  \n",
       "4       4722        -95%   2651880  0.0 -3.0 -5.0  71.0  \n",
       "..       ...         ...       ...  ...  ...  ...   ...  \n",
       "599   107788        -35%  13433769  NaN  NaN  NaN   NaN  \n",
       "600    15419        -21%    945233  NaN  NaN  NaN   NaN  \n",
       "601  4215576         -5%  45464500  NaN  NaN  NaN   NaN  \n",
       "602   389944        -20%  24997395  NaN  NaN  NaN   NaN  \n",
       "603  4215576          0%    343147  NaN  NaN  NaN   NaN  \n",
       "\n",
       "[604 rows x 16 columns]"
      ]
     },
     "execution_count": 38,
     "metadata": {},
     "output_type": "execute_result"
    }
   ],
   "source": [
    "raw_insiders_AAPL"
   ]
  },
  {
   "cell_type": "code",
   "execution_count": 39,
   "metadata": {},
   "outputs": [],
   "source": [
    "# tomar el dataframe limpio y guardarlo como un nuevo csv\n",
    "raw_insiders_AAPL.to_csv(('../Dataset/curated/AAPL_transaccionesOPENINSIDER_limpio.csv'))"
   ]
  },
  {
   "cell_type": "markdown",
   "metadata": {},
   "source": [
    "Aquí concluye el EDA, exportamos los datos para posteriormente empezar con data_wrangling."
   ]
  }
 ],
 "metadata": {
  "kernelspec": {
   "display_name": "Python 3",
   "language": "python",
   "name": "python3"
  },
  "language_info": {
   "codemirror_mode": {
    "name": "ipython",
    "version": 3
   },
   "file_extension": ".py",
   "mimetype": "text/x-python",
   "name": "python",
   "nbconvert_exporter": "python",
   "pygments_lexer": "ipython3",
   "version": "3.12.6"
  }
 },
 "nbformat": 4,
 "nbformat_minor": 2
}
