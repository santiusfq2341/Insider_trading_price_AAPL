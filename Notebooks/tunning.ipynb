{
 "cells": [
  {
   "cell_type": "code",
   "execution_count": 4,
   "id": "56a3cf2f",
   "metadata": {},
   "outputs": [
    {
     "name": "stdout",
     "output_type": "stream",
     "text": [
      "🎯 Mejor modelo encontrado:\n",
      "n_estimators=100, max_depth=None, min_samples_split=2, min_samples_leaf=1, max_features=sqrt\n",
      "Recall: 0.9879518072289156\n",
      "Precision: 0.9213483146067416\n",
      "F1-score: 0.9534883720930233\n",
      "--------------------------------------------------\n",
      "🎯 Mejor modelo encontrado:\n",
      "n_estimators=200, max_depth=None, min_samples_split=2, min_samples_leaf=1, max_features=sqrt\n",
      "Recall: 1.0\n",
      "Precision: 0.9222222222222223\n",
      "F1-score: 0.9595375722543352\n",
      "--------------------------------------------------\n"
     ]
    }
   ],
   "source": [
    "from sklearn.ensemble import RandomForestClassifier\n",
    "from sklearn.metrics import recall_score, precision_score, f1_score\n",
    "\n",
    "mejor_modelo = {\n",
    "    'n_estimators': None,\n",
    "    'max_depth': None,\n",
    "    'min_samples_split': None,\n",
    "    'min_samples_leaf': None,\n",
    "    'max_features': None,\n",
    "    'recall': 0,\n",
    "    'precision': 0,\n",
    "    'f1_score': 0\n",
    "}\n",
    "\n",
    "mejor_f1 = 0\n",
    "\n",
    "\n",
    "for n_arboles in range(100, 1001, 100):  # n_estimators\n",
    "    for profundidad in [None, 5, 10, 20]:\n",
    "        for min_split in [2, 5, 10]:\n",
    "            for min_leaf in [1, 2, 4]:\n",
    "                for max_feat in ['sqrt', 'log2', None]:\n",
    "                    modelo_rf = RandomForestClassifier(\n",
    "                        n_estimators=n_arboles,\n",
    "                        max_depth=profundidad,\n",
    "                        min_samples_split=min_split,\n",
    "                        min_samples_leaf=min_leaf,\n",
    "                        max_features=max_feat,\n",
    "                        random_state=12345\n",
    "                    )\n",
    "                    \n",
    "                    modelo_rf.fit(entrenamiento_caracteristica_sobre, entrenamiento_objetivo_sobre)\n",
    "                    predicciones = modelo_rf.predict(validacion_caracteristicas)\n",
    "\n",
    "                    recall = recall_score(validacion_objetivo, predicciones)\n",
    "                    precision = precision_score(validacion_objetivo, predicciones)\n",
    "                    f1 = f1_score(validacion_objetivo, predicciones)\n",
    "\n",
    "                    if f1 > mejor_f1:\n",
    "                        print(f'🎯 Mejor modelo encontrado:')\n",
    "                        print(f'n_estimators={n_arboles}, max_depth={profundidad}, min_samples_split={min_split}, min_samples_leaf={min_leaf}, max_features={max_feat}')\n",
    "                        print('Recall:', recall)\n",
    "                        print('Precision:', precision)\n",
    "                        print('F1-score:', f1)\n",
    "                        print('-' * 50)\n",
    "\n",
    "                        mejor_modelo.update({\n",
    "                            'n_estimators': n_arboles,\n",
    "                            'max_depth': profundidad,\n",
    "                            'min_samples_split': min_split,\n",
    "                            'min_samples_leaf': min_leaf,\n",
    "                            'max_features': max_feat,\n",
    "                            'recall': recall,\n",
    "                            'precision': precision,\n",
    "                            'f1_score': f1\n",
    "                        })\n",
    "\n",
    "                        mejor_f1 = f1\n"
   ]
  }
 ],
 "metadata": {
  "kernelspec": {
   "display_name": "Python 3",
   "language": "python",
   "name": "python3"
  },
  "language_info": {
   "codemirror_mode": {
    "name": "ipython",
    "version": 3
   },
   "file_extension": ".py",
   "mimetype": "text/x-python",
   "name": "python",
   "nbconvert_exporter": "python",
   "pygments_lexer": "ipython3",
   "version": "3.12.6"
  }
 },
 "nbformat": 4,
 "nbformat_minor": 5
}
